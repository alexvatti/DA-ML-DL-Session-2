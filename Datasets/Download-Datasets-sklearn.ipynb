{
 "cells": [
  {
   "cell_type": "code",
   "execution_count": 1,
   "id": "8682f166",
   "metadata": {},
   "outputs": [],
   "source": [
    "from sklearn.datasets import load_iris\n",
    "import pandas as pd\n",
    "\n",
    "# Load Iris dataset from scikit-learn\n",
    "iris = load_iris()\n",
    "\n",
    "# Create a DataFrame from the dataset\n",
    "iris_df = pd.DataFrame(data=iris.data, columns=iris.feature_names)\n",
    "iris_df['target'] = iris.target  # Add the target column\n",
    "\n",
    "# Map target names\n",
    "iris_df['target_names'] = iris_df['target'].map({0: 'setosa', 1: 'versicolor', 2: 'virginica'})\n",
    "\n",
    "# Save the DataFrame to CSV\n",
    "iris_df.to_csv('iris_dataset.csv', index=False)\n"
   ]
  },
  {
   "cell_type": "code",
   "execution_count": 2,
   "id": "67a924d3",
   "metadata": {},
   "outputs": [],
   "source": [
    "from sklearn.datasets import load_diabetes\n",
    "import pandas as pd\n",
    "\n",
    "# Load the Diabetes dataset from scikit-learn\n",
    "diabetes = load_diabetes()\n",
    "\n",
    "# Create a DataFrame from the dataset\n",
    "diabetes_df = pd.DataFrame(data=diabetes.data, columns=diabetes.feature_names)\n",
    "diabetes_df['target'] = diabetes.target  # Add the target column\n",
    "\n",
    "# Save the DataFrame to CSV\n",
    "diabetes_df.to_csv('diabetes_dataset.csv', index=False)\n"
   ]
  },
  {
   "cell_type": "code",
   "execution_count": 3,
   "id": "df6fca4c",
   "metadata": {},
   "outputs": [],
   "source": [
    "from sklearn.datasets import load_digits\n",
    "import pandas as pd\n",
    "\n",
    "# Load the Digits dataset from scikit-learn\n",
    "digits = load_digits()\n",
    "\n",
    "# Create a DataFrame from the dataset\n",
    "digits_df = pd.DataFrame(data=digits.data, columns=[f'pixel_{i}' for i in range(digits.data.shape[1])])\n",
    "digits_df['target'] = digits.target  # Add the target column\n",
    "\n",
    "# Save the DataFrame to CSV\n",
    "digits_df.to_csv('digits_dataset.csv', index=False)\n"
   ]
  },
  {
   "cell_type": "code",
   "execution_count": null,
   "id": "080b5229",
   "metadata": {
    "scrolled": true
   },
   "outputs": [],
   "source": [
    "from sklearn.datasets import load_linnerud\n",
    "import pandas as pd\n",
    "\n",
    "# Load the Linnerud dataset from scikit-learn\n",
    "linnerud = load_linnerud()\n",
    "\n",
    "# Create a DataFrame from the dataset\n",
    "linnerud_df = pd.DataFrame(data=linnerud.data, columns=linnerud.feature_names)\n",
    "linnerud_df['target_weight'] = linnerud.target[:, 0]  # Pick 'Weight' as target\n",
    "\n",
    "# Save the DataFrame to CSV\n",
    "linnerud_df.to_csv('linnerud_dataset.csv', index=False)\n"
   ]
  },
  {
   "cell_type": "code",
   "execution_count": 9,
   "id": "c922ef10",
   "metadata": {},
   "outputs": [],
   "source": [
    "from sklearn.datasets import load_wine\n",
    "import pandas as pd\n",
    "\n",
    "# Load the Wine recognition dataset from scikit-learn\n",
    "wine = load_wine()\n",
    "\n",
    "# Create a DataFrame from the dataset\n",
    "wine_df = pd.DataFrame(data=wine.data, columns=wine.feature_names)\n",
    "wine_df['target'] = wine.target  # Add the target column\n",
    "\n",
    "# Save the DataFrame to CSV\n",
    "wine_df.to_csv('wine_dataset.csv', index=False)\n"
   ]
  },
  {
   "cell_type": "code",
   "execution_count": 10,
   "id": "c107044a",
   "metadata": {},
   "outputs": [],
   "source": [
    "from sklearn.datasets import load_breast_cancer\n",
    "import pandas as pd\n",
    "\n",
    "# Load the Breast Cancer Wisconsin (Diagnostic) dataset from scikit-learn\n",
    "breast_cancer = load_breast_cancer()\n",
    "\n",
    "# Create a DataFrame from the dataset\n",
    "breast_cancer_df = pd.DataFrame(data=breast_cancer.data, columns=breast_cancer.feature_names)\n",
    "breast_cancer_df['target'] = breast_cancer.target  # Add the target column\n",
    "\n",
    "# Save the DataFrame to CSV\n",
    "breast_cancer_df.to_csv('breast_cancer_dataset.csv', index=False)\n"
   ]
  },
  {
   "cell_type": "code",
   "execution_count": null,
   "id": "c0c223bb",
   "metadata": {},
   "outputs": [],
   "source": []
  }
 ],
 "metadata": {
  "kernelspec": {
   "display_name": "Python 3 (ipykernel)",
   "language": "python",
   "name": "python3"
  },
  "language_info": {
   "codemirror_mode": {
    "name": "ipython",
    "version": 3
   },
   "file_extension": ".py",
   "mimetype": "text/x-python",
   "name": "python",
   "nbconvert_exporter": "python",
   "pygments_lexer": "ipython3",
   "version": "3.11.5"
  }
 },
 "nbformat": 4,
 "nbformat_minor": 5
}
