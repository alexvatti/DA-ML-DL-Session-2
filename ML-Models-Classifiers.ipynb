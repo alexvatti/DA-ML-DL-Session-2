{
 "cells": [
  {
   "cell_type": "markdown",
   "id": "990931c3",
   "metadata": {},
   "source": [
    "# ML Models (Classification)(Classifier)"
   ]
  },
  {
   "cell_type": "code",
   "execution_count": null,
   "id": "b4528292",
   "metadata": {},
   "outputs": [],
   "source": [
    "from sklearn.model_selection import train_test_split\n",
    "X_train, X_test, Y_train, Y_test = train_test_split(X,Y,test_size=0.2,random_state = 42)"
   ]
  },
  {
   "cell_type": "code",
   "execution_count": null,
   "id": "40235f40",
   "metadata": {},
   "outputs": [],
   "source": [
    "import seaborn as sns\n",
    "import matplotlib.pyplot as plt\n",
    "def draw_heatmap(conf_matrix):\n",
    "    sns.heatmap(conf_matrix, annot=True)\n",
    "    plt.xlabel('Predicted Labels')\n",
    "    plt.ylabel('Actual Labels')\n",
    "    plt.title('Confusion Matrix')\n",
    "    plt.show()"
   ]
  },
  {
   "cell_type": "markdown",
   "id": "5a4b95cd",
   "metadata": {},
   "source": [
    "## K-Nearest Neighbors (kNN) classifier "
   ]
  },
  {
   "cell_type": "code",
   "execution_count": null,
   "id": "d91f00c4",
   "metadata": {},
   "outputs": [],
   "source": [
    "from sklearn.neighbors import KNeighborsClassifier\n",
    "k = 3\n",
    "knn_classifier = KNeighborsClassifier(n_neighbors=k)\n",
    "\n",
    "# Fit the classifier to the training data\n",
    "knn_classifier.fit(X_train, Y_train)\n",
    "print(\"Model -KNN Classifier\")\n",
    "\n",
    "# Predict the labels for the test set\n",
    "y_pred = knn_classifier.predict(X_train)\n",
    "# Calculate the accuracy of the classifier\n",
    "accuracy = accuracy_score(Y_train, y_pred)\n",
    "print(\"Train Accuracy:\", accuracy)\n",
    "\n",
    "# Predict the labels for the test set\n",
    "y_pred = knn_classifier.predict(X_test)\n",
    "# Calculate the accuracy of the classifier\n",
    "accuracy = accuracy_score(Y_test, y_pred)\n",
    "print(\"Test Accuracy:\", accuracy)\n",
    "\n",
    "print(classification_report(Y_test, y_pred))\n",
    "print(confusion_matrix(Y_test, y_pred))\n",
    "conf_matrix = confusion_matrix(Y_test, y_pred)\n",
    "draw_heatmap(conf_matrix)"
   ]
  },
  {
   "cell_type": "markdown",
   "id": "448a51e8",
   "metadata": {},
   "source": [
    "## Logistic Regression "
   ]
  },
  {
   "cell_type": "code",
   "execution_count": null,
   "id": "50c0c4b3",
   "metadata": {},
   "outputs": [],
   "source": [
    "lg_model = LogisticRegression(solver='saga', max_iter=500, random_state=42)\n",
    "lg_model.fit(X_train, Y_train)\n",
    "\n",
    "print(\"Model - Logistic Regression\")\n",
    "score = lg_model.score(X_train, Y_train)\n",
    "print('accuracy train score overall :', score)\n",
    "score = lg_model.score(X_test, Y_test)\n",
    "print('accuracy test score overall :', score)\n",
    "\n",
    "y_pred = lg_model.predict(X_test)\n",
    "print(classification_report(Y_test, y_pred))\n",
    "print(confusion_matrix(Y_test, y_pred))\n",
    "conf_matrix = confusion_matrix(Y_test, y_pred)\n",
    "draw_heatmap(conf_matrix)"
   ]
  },
  {
   "cell_type": "markdown",
   "id": "1903a940",
   "metadata": {},
   "source": [
    "## GaussianNB"
   ]
  },
  {
   "cell_type": "code",
   "execution_count": null,
   "id": "3d873876",
   "metadata": {},
   "outputs": [],
   "source": [
    "from sklearn.naive_bayes import GaussianNB, CategoricalNB\n",
    "gnb_model = GaussianNB()\n",
    "gnb_model.fit(X_train,Y_train)\n",
    "\n",
    "print(\"Model-GaussianNB\")\n",
    "print(\"train score\",gnb_model.score(X_train,Y_train))\n",
    "print(\"test score\",gnb_model.score(X_test,Y_test))\n",
    "\n",
    "y_pred = lg_model.predict(X_test)\n",
    "print(classification_report(Y_test, y_pred))\n",
    "print(confusion_matrix(Y_test, y_pred))\n",
    "conf_matrix = confusion_matrix(Y_test, y_pred)\n",
    "draw_heatmap(conf_matrix)"
   ]
  },
  {
   "cell_type": "markdown",
   "id": "4999e2f2",
   "metadata": {},
   "source": [
    "## CategoricalNB"
   ]
  },
  {
   "cell_type": "code",
   "execution_count": null,
   "id": "0fdf7b40",
   "metadata": {},
   "outputs": [],
   "source": [
    "from sklearn.naive_bayes import GaussianNB, CategoricalNB\n",
    "cnb_model = CategoricalNB()\n",
    "cnb_model.fit(X_train,Y_train)\n",
    "\n",
    "print(\"Model- CategoricalNB\")\n",
    "print(\"train score\",cnb_model.score(X_train,Y_train))\n",
    "print(\"test score\",cnb_model.score(X_test,Y_test))\n",
    "\n",
    "y_pred = lg_model.predict(X_test)\n",
    "print(classification_report(Y_test, y_pred))\n",
    "print(confusion_matrix(Y_test, y_pred))\n",
    "conf_matrix = confusion_matrix(Y_test, y_pred)\n",
    "draw_heatmap(conf_matrix)"
   ]
  },
  {
   "cell_type": "markdown",
   "id": "1f8adbb0",
   "metadata": {},
   "source": [
    "##  Suport Vector Machine - Classifier"
   ]
  },
  {
   "cell_type": "code",
   "execution_count": null,
   "id": "446969b1",
   "metadata": {},
   "outputs": [],
   "source": [
    "from sklearn.svm import SVC\n",
    "# Initialize the SVM classifier\n",
    "svm_linear_classifier = SVC(kernel='linear', random_state=42)\n",
    "\n",
    "# Train the SVM classifier\n",
    "svm_linear_classifier.fit(X_train, Y_train)\n",
    "print(\"model-Suport Vector Machine - kernel - linear -Classifier\")\n",
    "\n",
    "y_pred = svm_linear_classifier.predict(X_train)\n",
    "# Calculate the accuracy of the model\n",
    "accuracy = accuracy_score(Y_train, y_pred)\n",
    "print(\"Train Accuracy:\", accuracy)\n",
    "\n",
    "# Predict the classes for test set\n",
    "y_pred = svm_linear_classifier.predict(X_test)\n",
    "# Calculate the accuracy of the model\n",
    "accuracy = accuracy_score(Y_test, y_pred)\n",
    "print(\"Test Accuracy:\", accuracy)\n",
    "\n",
    "print(classification_report(Y_test, y_pred))\n",
    "print(confusion_matrix(Y_test, y_pred))\n",
    "conf_matrix = confusion_matrix(Y_test, y_pred)\n",
    "draw_heatmap(conf_matrix)"
   ]
  },
  {
   "cell_type": "code",
   "execution_count": null,
   "id": "5c118803",
   "metadata": {},
   "outputs": [],
   "source": [
    "\n",
    "svm_rbf_classifier = SVC(kernel='rbf', random_state=42)\n",
    "\n",
    "# Train the SVM classifier\n",
    "svm_rbf_classifier.fit(X_train, Y_train)\n",
    "print(\"model-Suport Vector Machine - Kernel -rbf - Classifier\")\n",
    "y_pred = svm_rbf_classifier.predict(X_train)\n",
    "# Calculate the accuracy of the model\n",
    "accuracy = accuracy_score(Y_train, y_pred)\n",
    "print(\"Train Accuracy:\", accuracy)\n",
    "\n",
    "# Predict the classes for test set\n",
    "y_pred = svm_rbf_classifier.predict(X_test)\n",
    "# Calculate the accuracy of the model\n",
    "accuracy = accuracy_score(Y_test, y_pred)\n",
    "print(\"Test Accuracy:\", accuracy)\n",
    "\n",
    "print(classification_report(Y_test, y_pred))\n",
    "print(confusion_matrix(Y_test, y_pred))\n",
    "conf_matrix = confusion_matrix(Y_test, y_pred)\n",
    "draw_heatmap(conf_matrix)"
   ]
  },
  {
   "cell_type": "code",
   "execution_count": null,
   "id": "c19a2cb4",
   "metadata": {},
   "outputs": [],
   "source": [
    "svm_poly_classifier = SVC(kernel='poly', random_state=42)\n",
    "\n",
    "# Train the SVM classifier\n",
    "svm_poly_classifier.fit(X_train, Y_train)\n",
    "print(\"model-Suport Vector Machine - Kernel -poly - Classifier\")\n",
    "\n",
    "y_pred = svm_poly_classifier.predict(X_train)\n",
    "# Calculate the accuracy of the model\n",
    "accuracy = accuracy_score(Y_train, y_pred)\n",
    "print(\"Train Accuracy:\", accuracy)\n",
    "\n",
    "# Predict the classes for test set\n",
    "y_pred = svm_poly_classifier.predict(X_test)\n",
    "\n",
    "# Calculate the accuracy of the model\n",
    "accuracy = accuracy_score(Y_test, y_pred)\n",
    "print(\"Test Accuracy:\", accuracy)\n",
    "\n",
    "print(classification_report(Y_test, y_pred))\n",
    "print(confusion_matrix(Y_test, y_pred))\n",
    "conf_matrix = confusion_matrix(Y_test, y_pred)\n",
    "draw_heatmap(conf_matrix)"
   ]
  },
  {
   "cell_type": "markdown",
   "id": "88a85098",
   "metadata": {},
   "source": [
    "## Decision Tree"
   ]
  },
  {
   "cell_type": "code",
   "execution_count": null,
   "id": "f8c6034a",
   "metadata": {},
   "outputs": [],
   "source": [
    "dt_clf = DecisionTreeClassifier(max_leaf_nodes=20,random_state=42)\n",
    "dt_clf.fit(X_train, Y_train)\n",
    "print(\"Model-Decion Tree\")\n",
    "\n",
    "accuracy=dt_clf.score(X_train, Y_train)\n",
    "print(f\"train score: {accuracy}\")\n",
    "\n",
    "accuracy=dt_clf.score(X_test, Y_test)\n",
    "print(f\"test score: {accuracy}\")\n",
    "\n",
    "y_pred=dt_clf.predict(X_test)\n",
    "print(classification_report(Y_test, y_pred))\n",
    "print(confusion_matrix(Y_test, y_pred))\n",
    "conf_matrix = confusion_matrix(Y_test, y_pred)\n",
    "draw_heatmap(conf_matrix)"
   ]
  },
  {
   "cell_type": "markdown",
   "id": "0e9e3c45",
   "metadata": {},
   "source": [
    "## Random Forest"
   ]
  },
  {
   "cell_type": "code",
   "execution_count": null,
   "id": "2a45c0b4",
   "metadata": {},
   "outputs": [],
   "source": [
    "rf_clf= RandomForestClassifier(n_estimators = 1000, random_state = 42, max_leaf_nodes=20)\n",
    "rf_clf.fit(X_train, Y_train)\n",
    "print(\"Model- Random Forest Tree\")\n",
    "\n",
    "accuracy=rf_clf.score(X_train, Y_train)\n",
    "print(f\"train score: {accuracy}\")\n",
    "\n",
    "accuracy=rf_clf.score(X_test, Y_test)\n",
    "print(f\"test score: {accuracy}\")\n",
    "\n",
    "y_pred=rf_clf.predict(X_test)\n",
    "print(classification_report(Y_test, y_pred))\n",
    "print(confusion_matrix(Y_test, y_pred))\n",
    "conf_matrix = confusion_matrix(Y_test, y_pred)\n",
    "draw_heatmap(conf_matrix)"
   ]
  },
  {
   "cell_type": "markdown",
   "id": "84d21adc",
   "metadata": {},
   "source": [
    "## AdaBoost "
   ]
  },
  {
   "cell_type": "code",
   "execution_count": null,
   "id": "27db6634",
   "metadata": {},
   "outputs": [],
   "source": [
    "base_classifier = DecisionTreeClassifier(max_depth=1)\n",
    "adaboost_clf = AdaBoostClassifier( n_estimators=50, random_state=42)\n",
    "\n",
    "# Train the AdaBoost classifier\n",
    "adaboost_clf.fit(X_train, Y_train)\n",
    "\n",
    "print(\"Model-AdaBoost\")\n",
    "print(\"train score\",adaboost_clf.score(X_train, Y_train))\n",
    "\n",
    "# Predict on the test set\n",
    "y_pred = adaboost_clf.predict(X_test)\n",
    "\n",
    "# Calculate accuracy\n",
    "accuracy = accuracy_score(Y_test, y_pred)\n",
    "print(f\"test score: {accuracy}\")\n",
    "\n",
    "print(classification_report(Y_test, y_pred))\n",
    "print(confusion_matrix(Y_test, y_pred))\n",
    "conf_matrix = confusion_matrix(Y_test, y_pred)\n",
    "draw_heatmap(conf_matrix)"
   ]
  },
  {
   "cell_type": "markdown",
   "id": "f9c9ffd1",
   "metadata": {},
   "source": [
    "## Gradient Boost"
   ]
  },
  {
   "cell_type": "code",
   "execution_count": null,
   "id": "aa7486a0",
   "metadata": {},
   "outputs": [],
   "source": [
    "gdb_clf = GradientBoostingClassifier(n_estimators=20, learning_rate=0.1, max_depth=1, random_state=42)\n",
    "gdb_clf.fit(X_train, Y_train)\n",
    "print(\"model-Gradient Boosting Classifier\")\n",
    "\n",
    "accuracy = gdb_clf.score(X_train, Y_train)\n",
    "print(\"Train Accuracy:\", accuracy)\n",
    "\n",
    "accuracy = gdb_clf.score(X_test, Y_test)\n",
    "print(\"Test Accuracy:\", accuracy)\n",
    "\n",
    "print(classification_report(Y_test, y_pred))\n",
    "print(confusion_matrix(Y_test, y_pred))\n",
    "conf_matrix = confusion_matrix(Y_test, y_pred)\n",
    "draw_heatmap(conf_matrix)"
   ]
  },
  {
   "cell_type": "markdown",
   "id": "f95b77dc",
   "metadata": {},
   "source": [
    "## XGradient Bosst Classifier"
   ]
  },
  {
   "cell_type": "code",
   "execution_count": null,
   "id": "6a5e6755",
   "metadata": {},
   "outputs": [],
   "source": [
    "from xgboost import XGBClassifier\n",
    "xgmodel = XGBClassifier()\n",
    "xgmodel.fit(X_train, Y_train)\n",
    "\n",
    "\n",
    "print(\"model- XGB Classifier\")\n",
    "# Make predictions on the test set\n",
    "y_pred = xgmodel.predict(X_train)\n",
    "accuracy = accuracy_score(Y_train, y_pred)\n",
    "print(\"Test Accuracy:\", accuracy)\n",
    "# Evaluate the model\n",
    "\n",
    "# Make predictions on the test set\n",
    "y_pred = xgmodel.predict(X_test)\n",
    "accuracy = accuracy_score(Y_test, y_pred)\n",
    "print(\"Test Accuracy:\", accuracy)\n",
    "\n",
    "print(classification_report(Y_test, y_pred))\n",
    "print(confusion_matrix(Y_test, y_pred))\n",
    "conf_matrix = confusion_matrix(Y_test, y_pred)\n",
    "draw_heatmap(conf_matrix)"
   ]
  }
 ],
 "metadata": {
  "kernelspec": {
   "display_name": "Python 3 (ipykernel)",
   "language": "python",
   "name": "python3"
  },
  "language_info": {
   "codemirror_mode": {
    "name": "ipython",
    "version": 3
   },
   "file_extension": ".py",
   "mimetype": "text/x-python",
   "name": "python",
   "nbconvert_exporter": "python",
   "pygments_lexer": "ipython3",
   "version": "3.11.5"
  }
 },
 "nbformat": 4,
 "nbformat_minor": 5
}
