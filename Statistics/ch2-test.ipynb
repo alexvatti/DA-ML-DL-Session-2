{
 "cells": [
  {
   "cell_type": "code",
   "execution_count": 3,
   "id": "1849feb9",
   "metadata": {},
   "outputs": [
    {
     "name": "stdout",
     "output_type": "stream",
     "text": [
      "Chi-square statistic: 0.6666666666666666\n",
      "P-value: 0.7165313105737892\n",
      "Degrees of freedom: 2\n"
     ]
    }
   ],
   "source": [
    "import pandas as pd\n",
    "from scipy.stats import chi2_contingency\n",
    "\n",
    "# Assuming you have a pandas DataFrame called 'df'\n",
    "# with two categorical columns named 'column1' and 'column2'\n",
    "\n",
    "# Example DataFrame creation\n",
    "data = {\n",
    "    'column1': [1, 2, 3, 2, 1, 3, 2, 1],\n",
    "    'column2': [0, 1, 1, 0, 1, 0, 0, 1]\n",
    "}\n",
    "df = pd.DataFrame(data)\n",
    "\n",
    "# Extracting the columns from the DataFrame\n",
    "chi2_test(\"column1\", \"column2\")\n",
    "\n"
   ]
  },
  {
   "cell_type": "code",
   "execution_count": 2,
   "id": "346ef50e",
   "metadata": {},
   "outputs": [],
   "source": []
  }
 ],
 "metadata": {
  "kernelspec": {
   "display_name": "Python 3 (ipykernel)",
   "language": "python",
   "name": "python3"
  },
  "language_info": {
   "codemirror_mode": {
    "name": "ipython",
    "version": 3
   },
   "file_extension": ".py",
   "mimetype": "text/x-python",
   "name": "python",
   "nbconvert_exporter": "python",
   "pygments_lexer": "ipython3",
   "version": "3.11.5"
  }
 },
 "nbformat": 4,
 "nbformat_minor": 5
}
