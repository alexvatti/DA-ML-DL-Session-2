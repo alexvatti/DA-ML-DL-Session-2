{
 "cells": [
  {
   "cell_type": "markdown",
   "id": "e6605baf",
   "metadata": {},
   "source": [
    "# A one-way ANOVA tells us that at least two groups are different from each other. "
   ]
  },
  {
   "cell_type": "code",
   "execution_count": 13,
   "id": "4c033816",
   "metadata": {
    "scrolled": true
   },
   "outputs": [
    {
     "name": "stdout",
     "output_type": "stream",
     "text": [
      "Lengths: [10, 10, 10]\n",
      "Group Means: [7.0, 4.0, 4.3]\n",
      "Overall Mean: 5.1000000000000005\n",
      "Variances: [3.0, 3.0, 3.0100000000000002]\n",
      "Sum of Squares Between: 54.6\n",
      "Sum of Squares Within: 90.1\n",
      "Mean Squares Between: 27.3\n",
      "Mean Squares Within: 3.337037037037037\n",
      "F-Statistic: 8.180910099889012\n"
     ]
    }
   ],
   "source": [
    "# Define the lists of data\n",
    "l_1 = [7, 9, 5, 8, 6, 8, 6, 10, 7, 4]\n",
    "l_2 = [4, 3, 6, 2, 7, 5, 5, 4, 1, 3]\n",
    "l_3 = [6, 1, 3, 5, 3, 4, 6, 5, 7, 3]\n",
    "\n",
    "# Calculate means\n",
    "l_1_mean = sum(l_1) / len(l_1)\n",
    "l_2_mean = sum(l_2) / len(l_2)\n",
    "l_3_mean = sum(l_3) / len(l_3)\n",
    "\n",
    "# Calculate overall mean\n",
    "overall_mean = (l_1_mean + l_2_mean + l_3_mean) / 3\n",
    "\n",
    "# Store means and lengths\n",
    "group_means = [l_1_mean, l_2_mean, l_3_mean]\n",
    "lengths = [len(l_1), len(l_2), len(l_3)]\n",
    "\n",
    "# Print lengths, means, and overall mean\n",
    "print(\"Lengths:\", lengths)\n",
    "print(\"Group Means:\", group_means)\n",
    "print(\"Overall Mean:\", overall_mean)\n",
    "\n",
    "# Calculate variance for each group\n",
    "l_variances = [(sum((x - mean) ** 2 for x in data) / len(data)) for data, mean in zip((l_1, l_2, l_3), group_means)]\n",
    "print(\"Variances:\", l_variances)\n",
    "\n",
    "# Calculate sum of squares between groups\n",
    "ss_between = sum(length * (mean - overall_mean) ** 2 for length, mean in zip(lengths, group_means))\n",
    "print(\"Sum of Squares Between:\", ss_between)\n",
    "\n",
    "# Calculate sum of squares within groups\n",
    "ss_within = sum(variance * (length) for variance, length in zip(l_variances, lengths))\n",
    "print(\"Sum of Squares Within:\", ss_within)\n",
    "\n",
    "# Calculate degrees of freedom\n",
    "df_between = len(lengths) - 1\n",
    "df_within = sum(lengths) - len(lengths)\n",
    "\n",
    "# Calculate mean squares\n",
    "ms_between = ss_between / df_between\n",
    "ms_within = ss_within / df_within\n",
    "print(\"Mean Squares Between:\", ms_between)\n",
    "print(\"Mean Squares Within:\", ms_within)\n",
    "\n",
    "# Calculate F-statistic\n",
    "f_statistic = ms_between / ms_within\n",
    "print(\"F-Statistic:\", f_statistic)\n"
   ]
  },
  {
   "cell_type": "markdown",
   "id": "502ae70d",
   "metadata": {},
   "source": [
    "# Conclusion df1 =2 df2 = 27 f-value 8.18 > 3.18 - Reject the null ho - so there u1!=u1!=u3"
   ]
  },
  {
   "cell_type": "code",
   "execution_count": 14,
   "id": "028e4616",
   "metadata": {},
   "outputs": [
    {
     "name": "stdout",
     "output_type": "stream",
     "text": [
      "0.6059933407325194\n"
     ]
    }
   ],
   "source": [
    "r = ss_between/ss_within\n",
    "print(r)"
   ]
  },
  {
   "cell_type": "markdown",
   "id": "3647be7c",
   "metadata": {},
   "source": [
    "Hence 60% of the difference between the scores is because of the approach that was used. Rest 40% is unknown. Hence, the Eta square helps us conclude whether the independent variable really impacts the dependent variable or whether the difference is due to chance or any other factor."
   ]
  }
 ],
 "metadata": {
  "kernelspec": {
   "display_name": "Python 3 (ipykernel)",
   "language": "python",
   "name": "python3"
  },
  "language_info": {
   "codemirror_mode": {
    "name": "ipython",
    "version": 3
   },
   "file_extension": ".py",
   "mimetype": "text/x-python",
   "name": "python",
   "nbconvert_exporter": "python",
   "pygments_lexer": "ipython3",
   "version": "3.11.5"
  }
 },
 "nbformat": 4,
 "nbformat_minor": 5
}
