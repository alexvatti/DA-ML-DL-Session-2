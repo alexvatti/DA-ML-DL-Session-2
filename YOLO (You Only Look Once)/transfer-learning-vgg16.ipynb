{
 "cells": [
  {
   "cell_type": "markdown",
   "id": "223fbb19",
   "metadata": {
    "papermill": {
     "duration": 0.025933,
     "end_time": "2022-08-18T13:54:24.076454",
     "exception": false,
     "start_time": "2022-08-18T13:54:24.050521",
     "status": "completed"
    },
    "tags": []
   },
   "source": [
    "# Transfer Learning\n",
    "\n",
    "Transfer learning is a machine learning technique where a model trained on one task  is re-purposed on a second related task.\n",
    "\n",
    "**Pre-trained Model Approach**\n",
    "\n",
    "1. Select Source Model. A pre-trained source model is chosen from available models. Many research institutions release models on large and challenging datasets that may be included in the pool of candidate models from which to choose from.\n",
    "\n",
    "2. Reuse Model. The model pre-trained model can then be used as the starting point for a model on the second task of interest. This may involve using all or parts of the model, depending on the modeling technique used.\n",
    "\n",
    "3. Tune Model. Optionally, the model may need to be adapted or refined on the input-output pair data available for the task of interest.\n"
   ]
  },
  {
   "cell_type": "markdown",
   "id": "47e66ddc",
   "metadata": {
    "papermill": {
     "duration": 0.008375,
     "end_time": "2022-08-18T13:54:24.097759",
     "exception": false,
     "start_time": "2022-08-18T13:54:24.089384",
     "status": "completed"
    },
    "tags": []
   },
   "source": [
    "\n",
    "# Credits\n",
    "\n",
    "https://machinelearningmastery.com/how-to-use-transfer-learning-when-developing-convolutional-neural-network-models/\n",
    "    \n",
    "https://www.tensorflow.org/tutorials/images/classification\n",
    "    \n",
    "https://codebasics.io/courses/deep-learning-with-tensorflow-keras-and-python\n",
    "    \n",
    "https://towardsdatascience.com/transfer-learning-with-vgg16-and-keras-50ea161580b4"
   ]
  },
  {
   "cell_type": "markdown",
   "id": "0ea031db",
   "metadata": {
    "papermill": {
     "duration": 0.006025,
     "end_time": "2022-08-18T13:54:24.109998",
     "exception": false,
     "start_time": "2022-08-18T13:54:24.103973",
     "status": "completed"
    },
    "tags": []
   },
   "source": [
    "# VGG-16\n",
    "Objective: The ImageNet dataset contains images of fixed size of 224*224 and have RGB channels. So, we have a tensor of (224, 224, 3) as our input. This model process the input image and outputs the a vector of 1000 values.\n",
    "\n",
    "**VGG Architecture:**\n",
    "The input to the network is an image of dimensions (224, 224, 3). The first two layers have 64 channels of a 3X3 filter size and the same padding. Then after a max pool layer of stride (2, 2), two layers have convolution layers of 128 filter size and filter size (3, 3). This is followed by a max-pooling layer of stride (2, 2) which is the same as the previous layer. Then there are 2 convolution layers of filter size (3, 3) and 256 filters. After that, there are 2 sets of 3 convolution layers and a max pool layer. Each has 512 filters of (3, 3) size with the same padding. \n",
    "\n",
    "This image is then passed to the stack of two convolution layers. In these convolution and max-pooling layers, the filters we use are of the size 3X3 instead of 11X11 in AlexNet and 7X7 in ZF-Net. In some of the layers, it also uses 1X1 pixel which is used to manipulate the number of input channels. There is a padding of 1-pixel (same padding) done after each convolution layer to prevent the spatial feature of the image."
   ]
  },
  {
   "cell_type": "markdown",
   "id": "6ce3a148",
   "metadata": {
    "papermill": {
     "duration": 0.006001,
     "end_time": "2022-08-18T13:54:24.122516",
     "exception": false,
     "start_time": "2022-08-18T13:54:24.116515",
     "status": "completed"
    },
    "tags": []
   },
   "source": [
    "\n",
    "# 1.Import Python modules"
   ]
  },
  {
   "cell_type": "code",
   "execution_count": 1,
   "id": "a45259e0",
   "metadata": {
    "execution": {
     "iopub.execute_input": "2022-08-18T13:54:24.137051Z",
     "iopub.status.busy": "2022-08-18T13:54:24.136414Z",
     "iopub.status.idle": "2022-08-18T13:54:32.090707Z",
     "shell.execute_reply": "2022-08-18T13:54:32.089253Z"
    },
    "papermill": {
     "duration": 7.965149,
     "end_time": "2022-08-18T13:54:32.094007",
     "exception": false,
     "start_time": "2022-08-18T13:54:24.128858",
     "status": "completed"
    },
    "tags": []
   },
   "outputs": [],
   "source": [
    "import numpy as np\n",
    "import cv2\n",
    "import os\n",
    "\n",
    "import PIL.Image as Image\n",
    "import matplotlib.pylab as plt\n",
    "\n",
    "import tensorflow as tf\n",
    "import tensorflow_hub as hub\n",
    "from tensorflow import keras\n",
    "from tensorflow.keras import layers\n",
    "from tensorflow.keras.models import Sequential\n",
    "from tensorflow.keras.applications.vgg16 import VGG16\n",
    "from tensorflow.keras.applications.vgg16 import preprocess_input\n",
    "from keras.models import Model\n",
    "from keras.layers import Dense\n",
    "from keras.layers import Flatten"
   ]
  },
  {
   "cell_type": "markdown",
   "id": "021dd40d",
   "metadata": {
    "papermill": {
     "duration": 0.006228,
     "end_time": "2022-08-18T13:54:32.107307",
     "exception": false,
     "start_time": "2022-08-18T13:54:32.101079",
     "status": "completed"
    },
    "tags": []
   },
   "source": [
    "# 2. Load trained model"
   ]
  },
  {
   "cell_type": "code",
   "execution_count": 2,
   "id": "05e880b2",
   "metadata": {
    "execution": {
     "iopub.execute_input": "2022-08-18T13:54:32.122458Z",
     "iopub.status.busy": "2022-08-18T13:54:32.121938Z",
     "iopub.status.idle": "2022-08-18T13:54:57.042782Z",
     "shell.execute_reply": "2022-08-18T13:54:57.041304Z"
    },
    "papermill": {
     "duration": 24.93232,
     "end_time": "2022-08-18T13:54:57.046264",
     "exception": false,
     "start_time": "2022-08-18T13:54:32.113944",
     "status": "completed"
    },
    "tags": []
   },
   "outputs": [
    {
     "name": "stderr",
     "output_type": "stream",
     "text": [
      "2022-08-18 13:54:32.252921: I tensorflow/stream_executor/cuda/cuda_gpu_executor.cc:937] successful NUMA node read from SysFS had negative value (-1), but there must be at least one NUMA node, so returning NUMA node zero\n",
      "2022-08-18 13:54:32.401631: I tensorflow/stream_executor/cuda/cuda_gpu_executor.cc:937] successful NUMA node read from SysFS had negative value (-1), but there must be at least one NUMA node, so returning NUMA node zero\n",
      "2022-08-18 13:54:32.405902: I tensorflow/stream_executor/cuda/cuda_gpu_executor.cc:937] successful NUMA node read from SysFS had negative value (-1), but there must be at least one NUMA node, so returning NUMA node zero\n",
      "2022-08-18 13:54:32.411826: I tensorflow/core/platform/cpu_feature_guard.cc:142] This TensorFlow binary is optimized with oneAPI Deep Neural Network Library (oneDNN) to use the following CPU instructions in performance-critical operations:  AVX2 FMA\n",
      "To enable them in other operations, rebuild TensorFlow with the appropriate compiler flags.\n",
      "2022-08-18 13:54:32.415746: I tensorflow/stream_executor/cuda/cuda_gpu_executor.cc:937] successful NUMA node read from SysFS had negative value (-1), but there must be at least one NUMA node, so returning NUMA node zero\n",
      "2022-08-18 13:54:32.419995: I tensorflow/stream_executor/cuda/cuda_gpu_executor.cc:937] successful NUMA node read from SysFS had negative value (-1), but there must be at least one NUMA node, so returning NUMA node zero\n",
      "2022-08-18 13:54:32.424118: I tensorflow/stream_executor/cuda/cuda_gpu_executor.cc:937] successful NUMA node read from SysFS had negative value (-1), but there must be at least one NUMA node, so returning NUMA node zero\n",
      "2022-08-18 13:54:35.636933: I tensorflow/stream_executor/cuda/cuda_gpu_executor.cc:937] successful NUMA node read from SysFS had negative value (-1), but there must be at least one NUMA node, so returning NUMA node zero\n",
      "2022-08-18 13:54:35.640919: I tensorflow/stream_executor/cuda/cuda_gpu_executor.cc:937] successful NUMA node read from SysFS had negative value (-1), but there must be at least one NUMA node, so returning NUMA node zero\n",
      "2022-08-18 13:54:35.644957: I tensorflow/stream_executor/cuda/cuda_gpu_executor.cc:937] successful NUMA node read from SysFS had negative value (-1), but there must be at least one NUMA node, so returning NUMA node zero\n",
      "2022-08-18 13:54:35.648741: I tensorflow/core/common_runtime/gpu/gpu_device.cc:1510] Created device /job:localhost/replica:0/task:0/device:GPU:0 with 15403 MB memory:  -> device: 0, name: Tesla P100-PCIE-16GB, pci bus id: 0000:00:04.0, compute capability: 6.0\n"
     ]
    },
    {
     "name": "stdout",
     "output_type": "stream",
     "text": [
      "Downloading data from https://storage.googleapis.com/tensorflow/keras-applications/vgg16/vgg16_weights_tf_dim_ordering_tf_kernels.h5\n",
      "553467904/553467096 [==============================] - 18s 0us/step\n",
      "553476096/553467096 [==============================] - 18s 0us/step\n",
      "Model: \"vgg16\"\n",
      "_________________________________________________________________\n",
      "Layer (type)                 Output Shape              Param #   \n",
      "=================================================================\n",
      "input_1 (InputLayer)         [(None, 224, 224, 3)]     0         \n",
      "_________________________________________________________________\n",
      "block1_conv1 (Conv2D)        (None, 224, 224, 64)      1792      \n",
      "_________________________________________________________________\n",
      "block1_conv2 (Conv2D)        (None, 224, 224, 64)      36928     \n",
      "_________________________________________________________________\n",
      "block1_pool (MaxPooling2D)   (None, 112, 112, 64)      0         \n",
      "_________________________________________________________________\n",
      "block2_conv1 (Conv2D)        (None, 112, 112, 128)     73856     \n",
      "_________________________________________________________________\n",
      "block2_conv2 (Conv2D)        (None, 112, 112, 128)     147584    \n",
      "_________________________________________________________________\n",
      "block2_pool (MaxPooling2D)   (None, 56, 56, 128)       0         \n",
      "_________________________________________________________________\n",
      "block3_conv1 (Conv2D)        (None, 56, 56, 256)       295168    \n",
      "_________________________________________________________________\n",
      "block3_conv2 (Conv2D)        (None, 56, 56, 256)       590080    \n",
      "_________________________________________________________________\n",
      "block3_conv3 (Conv2D)        (None, 56, 56, 256)       590080    \n",
      "_________________________________________________________________\n",
      "block3_pool (MaxPooling2D)   (None, 28, 28, 256)       0         \n",
      "_________________________________________________________________\n",
      "block4_conv1 (Conv2D)        (None, 28, 28, 512)       1180160   \n",
      "_________________________________________________________________\n",
      "block4_conv2 (Conv2D)        (None, 28, 28, 512)       2359808   \n",
      "_________________________________________________________________\n",
      "block4_conv3 (Conv2D)        (None, 28, 28, 512)       2359808   \n",
      "_________________________________________________________________\n",
      "block4_pool (MaxPooling2D)   (None, 14, 14, 512)       0         \n",
      "_________________________________________________________________\n",
      "block5_conv1 (Conv2D)        (None, 14, 14, 512)       2359808   \n",
      "_________________________________________________________________\n",
      "block5_conv2 (Conv2D)        (None, 14, 14, 512)       2359808   \n",
      "_________________________________________________________________\n",
      "block5_conv3 (Conv2D)        (None, 14, 14, 512)       2359808   \n",
      "_________________________________________________________________\n",
      "block5_pool (MaxPooling2D)   (None, 7, 7, 512)         0         \n",
      "_________________________________________________________________\n",
      "flatten (Flatten)            (None, 25088)             0         \n",
      "_________________________________________________________________\n",
      "fc1 (Dense)                  (None, 4096)              102764544 \n",
      "_________________________________________________________________\n",
      "fc2 (Dense)                  (None, 4096)              16781312  \n",
      "_________________________________________________________________\n",
      "predictions (Dense)          (None, 1000)              4097000   \n",
      "=================================================================\n",
      "Total params: 138,357,544\n",
      "Trainable params: 138,357,544\n",
      "Non-trainable params: 0\n",
      "_________________________________________________________________\n"
     ]
    }
   ],
   "source": [
    "IMAGE_SHAPE = (224, 224)\n",
    "\n",
    "# load model\n",
    "model = VGG16()\n",
    "# summarize the model\n",
    "model.summary()"
   ]
  },
  {
   "cell_type": "code",
   "execution_count": 3,
   "id": "d4b05a6a",
   "metadata": {
    "execution": {
     "iopub.execute_input": "2022-08-18T13:54:57.102002Z",
     "iopub.status.busy": "2022-08-18T13:54:57.101560Z",
     "iopub.status.idle": "2022-08-18T13:54:58.367588Z",
     "shell.execute_reply": "2022-08-18T13:54:58.363387Z"
    },
    "papermill": {
     "duration": 1.295516,
     "end_time": "2022-08-18T13:54:58.370247",
     "exception": false,
     "start_time": "2022-08-18T13:54:57.074731",
     "status": "completed"
    },
    "tags": []
   },
   "outputs": [
    {
     "name": "stdout",
     "output_type": "stream",
     "text": [
      "Downloading data from https://storage.googleapis.com/tensorflow/keras-applications/vgg16/vgg16_weights_tf_dim_ordering_tf_kernels_notop.h5\n",
      "58892288/58889256 [==============================] - 1s 0us/step\n",
      "58900480/58889256 [==============================] - 1s 0us/step\n",
      "Model: \"vgg16\"\n",
      "_________________________________________________________________\n",
      "Layer (type)                 Output Shape              Param #   \n",
      "=================================================================\n",
      "input_2 (InputLayer)         [(None, 224, 224, 3)]     0         \n",
      "_________________________________________________________________\n",
      "block1_conv1 (Conv2D)        (None, 224, 224, 64)      1792      \n",
      "_________________________________________________________________\n",
      "block1_conv2 (Conv2D)        (None, 224, 224, 64)      36928     \n",
      "_________________________________________________________________\n",
      "block1_pool (MaxPooling2D)   (None, 112, 112, 64)      0         \n",
      "_________________________________________________________________\n",
      "block2_conv1 (Conv2D)        (None, 112, 112, 128)     73856     \n",
      "_________________________________________________________________\n",
      "block2_conv2 (Conv2D)        (None, 112, 112, 128)     147584    \n",
      "_________________________________________________________________\n",
      "block2_pool (MaxPooling2D)   (None, 56, 56, 128)       0         \n",
      "_________________________________________________________________\n",
      "block3_conv1 (Conv2D)        (None, 56, 56, 256)       295168    \n",
      "_________________________________________________________________\n",
      "block3_conv2 (Conv2D)        (None, 56, 56, 256)       590080    \n",
      "_________________________________________________________________\n",
      "block3_conv3 (Conv2D)        (None, 56, 56, 256)       590080    \n",
      "_________________________________________________________________\n",
      "block3_pool (MaxPooling2D)   (None, 28, 28, 256)       0         \n",
      "_________________________________________________________________\n",
      "block4_conv1 (Conv2D)        (None, 28, 28, 512)       1180160   \n",
      "_________________________________________________________________\n",
      "block4_conv2 (Conv2D)        (None, 28, 28, 512)       2359808   \n",
      "_________________________________________________________________\n",
      "block4_conv3 (Conv2D)        (None, 28, 28, 512)       2359808   \n",
      "_________________________________________________________________\n",
      "block4_pool (MaxPooling2D)   (None, 14, 14, 512)       0         \n",
      "_________________________________________________________________\n",
      "block5_conv1 (Conv2D)        (None, 14, 14, 512)       2359808   \n",
      "_________________________________________________________________\n",
      "block5_conv2 (Conv2D)        (None, 14, 14, 512)       2359808   \n",
      "_________________________________________________________________\n",
      "block5_conv3 (Conv2D)        (None, 14, 14, 512)       2359808   \n",
      "_________________________________________________________________\n",
      "block5_pool (MaxPooling2D)   (None, 7, 7, 512)         0         \n",
      "=================================================================\n",
      "Total params: 14,714,688\n",
      "Trainable params: 14,714,688\n",
      "Non-trainable params: 0\n",
      "_________________________________________________________________\n"
     ]
    }
   ],
   "source": [
    "# remove the output layer\n",
    "model = VGG16(include_top=False, input_shape=(224, 224, 3))\n",
    "model.summary()"
   ]
  },
  {
   "cell_type": "code",
   "execution_count": 4,
   "id": "73bea6e4",
   "metadata": {
    "execution": {
     "iopub.execute_input": "2022-08-18T13:54:58.405986Z",
     "iopub.status.busy": "2022-08-18T13:54:58.405645Z",
     "iopub.status.idle": "2022-08-18T13:54:58.433078Z",
     "shell.execute_reply": "2022-08-18T13:54:58.430725Z"
    },
    "papermill": {
     "duration": 0.049558,
     "end_time": "2022-08-18T13:54:58.436977",
     "exception": false,
     "start_time": "2022-08-18T13:54:58.387419",
     "status": "completed"
    },
    "tags": []
   },
   "outputs": [
    {
     "name": "stdout",
     "output_type": "stream",
     "text": [
      "Model: \"model\"\n",
      "_________________________________________________________________\n",
      "Layer (type)                 Output Shape              Param #   \n",
      "=================================================================\n",
      "input_2 (InputLayer)         [(None, 224, 224, 3)]     0         \n",
      "_________________________________________________________________\n",
      "block1_conv1 (Conv2D)        (None, 224, 224, 64)      1792      \n",
      "_________________________________________________________________\n",
      "block1_conv2 (Conv2D)        (None, 224, 224, 64)      36928     \n",
      "_________________________________________________________________\n",
      "block1_pool (MaxPooling2D)   (None, 112, 112, 64)      0         \n",
      "_________________________________________________________________\n",
      "block2_conv1 (Conv2D)        (None, 112, 112, 128)     73856     \n",
      "_________________________________________________________________\n",
      "block2_conv2 (Conv2D)        (None, 112, 112, 128)     147584    \n",
      "_________________________________________________________________\n",
      "block2_pool (MaxPooling2D)   (None, 56, 56, 128)       0         \n",
      "_________________________________________________________________\n",
      "block3_conv1 (Conv2D)        (None, 56, 56, 256)       295168    \n",
      "_________________________________________________________________\n",
      "block3_conv2 (Conv2D)        (None, 56, 56, 256)       590080    \n",
      "_________________________________________________________________\n",
      "block3_conv3 (Conv2D)        (None, 56, 56, 256)       590080    \n",
      "_________________________________________________________________\n",
      "block3_pool (MaxPooling2D)   (None, 28, 28, 256)       0         \n",
      "_________________________________________________________________\n",
      "block4_conv1 (Conv2D)        (None, 28, 28, 512)       1180160   \n",
      "_________________________________________________________________\n",
      "block4_conv2 (Conv2D)        (None, 28, 28, 512)       2359808   \n",
      "_________________________________________________________________\n",
      "block4_conv3 (Conv2D)        (None, 28, 28, 512)       2359808   \n",
      "_________________________________________________________________\n",
      "block4_pool (MaxPooling2D)   (None, 14, 14, 512)       0         \n",
      "_________________________________________________________________\n",
      "block5_conv1 (Conv2D)        (None, 14, 14, 512)       2359808   \n",
      "_________________________________________________________________\n",
      "block5_conv2 (Conv2D)        (None, 14, 14, 512)       2359808   \n",
      "_________________________________________________________________\n",
      "block5_conv3 (Conv2D)        (None, 14, 14, 512)       2359808   \n",
      "_________________________________________________________________\n",
      "block5_pool (MaxPooling2D)   (None, 7, 7, 512)         0         \n",
      "_________________________________________________________________\n",
      "flatten (Flatten)            (None, 25088)             0         \n",
      "_________________________________________________________________\n",
      "dense (Dense)                (None, 5)                 125445    \n",
      "=================================================================\n",
      "Total params: 14,840,133\n",
      "Trainable params: 14,840,133\n",
      "Non-trainable params: 0\n",
      "_________________________________________________________________\n"
     ]
    }
   ],
   "source": [
    "flat1 = Flatten()(model.layers[-1].output)\n",
    "#class1 = Dense(1024, activation='relu')(flat1)\n",
    "output = Dense(5, activation='softmax')(flat1)\n",
    "# define new model\n",
    "model = Model(inputs=model.inputs, outputs=output)\n",
    "model.summary()"
   ]
  },
  {
   "cell_type": "code",
   "execution_count": 5,
   "id": "250691a2",
   "metadata": {
    "execution": {
     "iopub.execute_input": "2022-08-18T13:54:58.471698Z",
     "iopub.status.busy": "2022-08-18T13:54:58.471381Z",
     "iopub.status.idle": "2022-08-18T13:54:58.478255Z",
     "shell.execute_reply": "2022-08-18T13:54:58.477079Z"
    },
    "papermill": {
     "duration": 0.026836,
     "end_time": "2022-08-18T13:54:58.481050",
     "exception": false,
     "start_time": "2022-08-18T13:54:58.454214",
     "status": "completed"
    },
    "tags": []
   },
   "outputs": [],
   "source": [
    "for layer in model.layers[:20]:\n",
    "    layer.trainable = False"
   ]
  },
  {
   "cell_type": "code",
   "execution_count": 6,
   "id": "d444388b",
   "metadata": {
    "execution": {
     "iopub.execute_input": "2022-08-18T13:54:58.514845Z",
     "iopub.status.busy": "2022-08-18T13:54:58.514524Z",
     "iopub.status.idle": "2022-08-18T13:54:58.523629Z",
     "shell.execute_reply": "2022-08-18T13:54:58.521717Z"
    },
    "papermill": {
     "duration": 0.030713,
     "end_time": "2022-08-18T13:54:58.528033",
     "exception": false,
     "start_time": "2022-08-18T13:54:58.497320",
     "status": "completed"
    },
    "tags": []
   },
   "outputs": [
    {
     "name": "stdout",
     "output_type": "stream",
     "text": [
      "Model: \"model\"\n",
      "_________________________________________________________________\n",
      "Layer (type)                 Output Shape              Param #   \n",
      "=================================================================\n",
      "input_2 (InputLayer)         [(None, 224, 224, 3)]     0         \n",
      "_________________________________________________________________\n",
      "block1_conv1 (Conv2D)        (None, 224, 224, 64)      1792      \n",
      "_________________________________________________________________\n",
      "block1_conv2 (Conv2D)        (None, 224, 224, 64)      36928     \n",
      "_________________________________________________________________\n",
      "block1_pool (MaxPooling2D)   (None, 112, 112, 64)      0         \n",
      "_________________________________________________________________\n",
      "block2_conv1 (Conv2D)        (None, 112, 112, 128)     73856     \n",
      "_________________________________________________________________\n",
      "block2_conv2 (Conv2D)        (None, 112, 112, 128)     147584    \n",
      "_________________________________________________________________\n",
      "block2_pool (MaxPooling2D)   (None, 56, 56, 128)       0         \n",
      "_________________________________________________________________\n",
      "block3_conv1 (Conv2D)        (None, 56, 56, 256)       295168    \n",
      "_________________________________________________________________\n",
      "block3_conv2 (Conv2D)        (None, 56, 56, 256)       590080    \n",
      "_________________________________________________________________\n",
      "block3_conv3 (Conv2D)        (None, 56, 56, 256)       590080    \n",
      "_________________________________________________________________\n",
      "block3_pool (MaxPooling2D)   (None, 28, 28, 256)       0         \n",
      "_________________________________________________________________\n",
      "block4_conv1 (Conv2D)        (None, 28, 28, 512)       1180160   \n",
      "_________________________________________________________________\n",
      "block4_conv2 (Conv2D)        (None, 28, 28, 512)       2359808   \n",
      "_________________________________________________________________\n",
      "block4_conv3 (Conv2D)        (None, 28, 28, 512)       2359808   \n",
      "_________________________________________________________________\n",
      "block4_pool (MaxPooling2D)   (None, 14, 14, 512)       0         \n",
      "_________________________________________________________________\n",
      "block5_conv1 (Conv2D)        (None, 14, 14, 512)       2359808   \n",
      "_________________________________________________________________\n",
      "block5_conv2 (Conv2D)        (None, 14, 14, 512)       2359808   \n",
      "_________________________________________________________________\n",
      "block5_conv3 (Conv2D)        (None, 14, 14, 512)       2359808   \n",
      "_________________________________________________________________\n",
      "block5_pool (MaxPooling2D)   (None, 7, 7, 512)         0         \n",
      "_________________________________________________________________\n",
      "flatten (Flatten)            (None, 25088)             0         \n",
      "_________________________________________________________________\n",
      "dense (Dense)                (None, 5)                 125445    \n",
      "=================================================================\n",
      "Total params: 14,840,133\n",
      "Trainable params: 125,445\n",
      "Non-trainable params: 14,714,688\n",
      "_________________________________________________________________\n"
     ]
    }
   ],
   "source": [
    "model.summary()"
   ]
  },
  {
   "cell_type": "markdown",
   "id": "9efb7752",
   "metadata": {
    "papermill": {
     "duration": 0.015778,
     "end_time": "2022-08-18T13:54:58.564277",
     "exception": false,
     "start_time": "2022-08-18T13:54:58.548499",
     "status": "completed"
    },
    "tags": []
   },
   "source": [
    "# 3.Load flowers dataset"
   ]
  },
  {
   "cell_type": "code",
   "execution_count": 7,
   "id": "2b0e1d97",
   "metadata": {
    "execution": {
     "iopub.execute_input": "2022-08-18T13:54:58.598887Z",
     "iopub.status.busy": "2022-08-18T13:54:58.598016Z",
     "iopub.status.idle": "2022-08-18T13:55:09.953578Z",
     "shell.execute_reply": "2022-08-18T13:55:09.952155Z"
    },
    "papermill": {
     "duration": 11.37665,
     "end_time": "2022-08-18T13:55:09.956791",
     "exception": false,
     "start_time": "2022-08-18T13:54:58.580141",
     "status": "completed"
    },
    "tags": []
   },
   "outputs": [
    {
     "name": "stdout",
     "output_type": "stream",
     "text": [
      "Downloading data from https://storage.googleapis.com/download.tensorflow.org/example_images/flower_photos.tgz\n",
      "228818944/228813984 [==============================] - 5s 0us/step\n",
      "228827136/228813984 [==============================] - 5s 0us/step\n"
     ]
    }
   ],
   "source": [
    "dataset_url = \"https://storage.googleapis.com/download.tensorflow.org/example_images/flower_photos.tgz\"\n",
    "data_dir = tf.keras.utils.get_file('flower_photos', origin=dataset_url,  cache_dir='.', untar=True)\n",
    "# cache_dir indicates where to download data. I specified . which means current directory\n",
    "# untar true will unzip it"
   ]
  },
  {
   "cell_type": "code",
   "execution_count": 8,
   "id": "06a8f5f7",
   "metadata": {
    "execution": {
     "iopub.execute_input": "2022-08-18T13:55:10.001609Z",
     "iopub.status.busy": "2022-08-18T13:55:10.001256Z",
     "iopub.status.idle": "2022-08-18T13:55:10.010991Z",
     "shell.execute_reply": "2022-08-18T13:55:10.009617Z"
    },
    "papermill": {
     "duration": 0.034562,
     "end_time": "2022-08-18T13:55:10.013530",
     "exception": false,
     "start_time": "2022-08-18T13:55:09.978968",
     "status": "completed"
    },
    "tags": []
   },
   "outputs": [
    {
     "data": {
      "text/plain": [
       "'./datasets/flower_photos'"
      ]
     },
     "execution_count": 8,
     "metadata": {},
     "output_type": "execute_result"
    }
   ],
   "source": [
    "data_dir"
   ]
  },
  {
   "cell_type": "code",
   "execution_count": 9,
   "id": "a40a828d",
   "metadata": {
    "execution": {
     "iopub.execute_input": "2022-08-18T13:55:10.056314Z",
     "iopub.status.busy": "2022-08-18T13:55:10.055477Z",
     "iopub.status.idle": "2022-08-18T13:55:10.065423Z",
     "shell.execute_reply": "2022-08-18T13:55:10.064222Z"
    },
    "papermill": {
     "duration": 0.033629,
     "end_time": "2022-08-18T13:55:10.068049",
     "exception": false,
     "start_time": "2022-08-18T13:55:10.034420",
     "status": "completed"
    },
    "tags": []
   },
   "outputs": [
    {
     "data": {
      "text/plain": [
       "PosixPath('datasets/flower_photos')"
      ]
     },
     "execution_count": 9,
     "metadata": {},
     "output_type": "execute_result"
    }
   ],
   "source": [
    "import pathlib\n",
    "data_dir = pathlib.Path(data_dir)\n",
    "data_dir"
   ]
  },
  {
   "cell_type": "markdown",
   "id": "15e15391",
   "metadata": {
    "papermill": {
     "duration": 0.020085,
     "end_time": "2022-08-18T13:55:10.108402",
     "exception": false,
     "start_time": "2022-08-18T13:55:10.088317",
     "status": "completed"
    },
    "tags": []
   },
   "source": [
    "# 4.Read flowers images from disk into numpy array using opencv"
   ]
  },
  {
   "cell_type": "code",
   "execution_count": 10,
   "id": "424c7c7f",
   "metadata": {
    "execution": {
     "iopub.execute_input": "2022-08-18T13:55:10.150651Z",
     "iopub.status.busy": "2022-08-18T13:55:10.150251Z",
     "iopub.status.idle": "2022-08-18T13:55:10.173408Z",
     "shell.execute_reply": "2022-08-18T13:55:10.172084Z"
    },
    "papermill": {
     "duration": 0.047415,
     "end_time": "2022-08-18T13:55:10.176015",
     "exception": false,
     "start_time": "2022-08-18T13:55:10.128600",
     "status": "completed"
    },
    "tags": []
   },
   "outputs": [],
   "source": [
    "flowers_images_dict = {\n",
    "    'roses': list(data_dir.glob('roses/*')),\n",
    "    'daisy': list(data_dir.glob('daisy/*')),\n",
    "    'dandelion': list(data_dir.glob('dandelion/*')),\n",
    "    'sunflowers': list(data_dir.glob('sunflowers/*')),\n",
    "    'tulips': list(data_dir.glob('tulips/*')),\n",
    "}"
   ]
  },
  {
   "cell_type": "code",
   "execution_count": 11,
   "id": "8f0110ed",
   "metadata": {
    "execution": {
     "iopub.execute_input": "2022-08-18T13:55:10.220096Z",
     "iopub.status.busy": "2022-08-18T13:55:10.217935Z",
     "iopub.status.idle": "2022-08-18T13:55:10.224838Z",
     "shell.execute_reply": "2022-08-18T13:55:10.223549Z"
    },
    "papermill": {
     "duration": 0.030471,
     "end_time": "2022-08-18T13:55:10.227338",
     "exception": false,
     "start_time": "2022-08-18T13:55:10.196867",
     "status": "completed"
    },
    "tags": []
   },
   "outputs": [],
   "source": [
    "num_of_flowers = 5\n",
    "flowers_labels_dict = {\n",
    "    'roses': 0,\n",
    "    'daisy': 1,\n",
    "    'dandelion': 2,\n",
    "    'sunflowers': 3,\n",
    "    'tulips': 4,\n",
    "}"
   ]
  },
  {
   "cell_type": "code",
   "execution_count": 12,
   "id": "8a8dda9d",
   "metadata": {
    "execution": {
     "iopub.execute_input": "2022-08-18T13:55:10.270139Z",
     "iopub.status.busy": "2022-08-18T13:55:10.269831Z",
     "iopub.status.idle": "2022-08-18T13:55:21.602351Z",
     "shell.execute_reply": "2022-08-18T13:55:21.600920Z"
    },
    "papermill": {
     "duration": 11.357364,
     "end_time": "2022-08-18T13:55:21.605622",
     "exception": false,
     "start_time": "2022-08-18T13:55:10.248258",
     "status": "completed"
    },
    "tags": []
   },
   "outputs": [],
   "source": [
    "X, Y = [], []\n",
    "\n",
    "for flower_name, images in flowers_images_dict.items():\n",
    "    for image in images:\n",
    "        img = cv2.imread(str(image))\n",
    "        resized_img = cv2.resize(img,(224,224))\n",
    "        X.append(resized_img)\n",
    "        Y.append(flowers_labels_dict[flower_name])"
   ]
  },
  {
   "cell_type": "code",
   "execution_count": 13,
   "id": "6ff64eee",
   "metadata": {
    "execution": {
     "iopub.execute_input": "2022-08-18T13:55:21.649129Z",
     "iopub.status.busy": "2022-08-18T13:55:21.648757Z",
     "iopub.status.idle": "2022-08-18T13:55:21.865039Z",
     "shell.execute_reply": "2022-08-18T13:55:21.863587Z"
    },
    "papermill": {
     "duration": 0.240925,
     "end_time": "2022-08-18T13:55:21.868098",
     "exception": false,
     "start_time": "2022-08-18T13:55:21.627173",
     "status": "completed"
    },
    "tags": []
   },
   "outputs": [],
   "source": [
    "X = np.array(X)\n",
    "Y = np.array(Y)"
   ]
  },
  {
   "cell_type": "markdown",
   "id": "d2ad1a6b",
   "metadata": {
    "papermill": {
     "duration": 0.020039,
     "end_time": "2022-08-18T13:55:21.909377",
     "exception": false,
     "start_time": "2022-08-18T13:55:21.889338",
     "status": "completed"
    },
    "tags": []
   },
   "source": [
    "# 5.Train test split"
   ]
  },
  {
   "cell_type": "code",
   "execution_count": 14,
   "id": "f0ea9efb",
   "metadata": {
    "execution": {
     "iopub.execute_input": "2022-08-18T13:55:21.952221Z",
     "iopub.status.busy": "2022-08-18T13:55:21.951554Z",
     "iopub.status.idle": "2022-08-18T13:55:22.858032Z",
     "shell.execute_reply": "2022-08-18T13:55:22.856712Z"
    },
    "papermill": {
     "duration": 0.932154,
     "end_time": "2022-08-18T13:55:22.861622",
     "exception": false,
     "start_time": "2022-08-18T13:55:21.929468",
     "status": "completed"
    },
    "tags": []
   },
   "outputs": [],
   "source": [
    "from sklearn.model_selection import train_test_split\n",
    "X_train, X_test, Y_train, Y_test = train_test_split(X, Y, random_state=0)"
   ]
  },
  {
   "cell_type": "markdown",
   "id": "076e12e8",
   "metadata": {
    "papermill": {
     "duration": 0.022937,
     "end_time": "2022-08-18T13:55:22.906032",
     "exception": false,
     "start_time": "2022-08-18T13:55:22.883095",
     "status": "completed"
    },
    "tags": []
   },
   "source": [
    "# 6. Preprocessing: scale images"
   ]
  },
  {
   "cell_type": "code",
   "execution_count": 15,
   "id": "917968d9",
   "metadata": {
    "execution": {
     "iopub.execute_input": "2022-08-18T13:55:22.948320Z",
     "iopub.status.busy": "2022-08-18T13:55:22.947998Z",
     "iopub.status.idle": "2022-08-18T13:55:24.950439Z",
     "shell.execute_reply": "2022-08-18T13:55:24.948737Z"
    },
    "papermill": {
     "duration": 2.026719,
     "end_time": "2022-08-18T13:55:24.953597",
     "exception": false,
     "start_time": "2022-08-18T13:55:22.926878",
     "status": "completed"
    },
    "tags": []
   },
   "outputs": [],
   "source": [
    "X_train_scaled = X_train / 255\n",
    "X_test_scaled = X_test / 255"
   ]
  },
  {
   "cell_type": "markdown",
   "id": "fc1f41eb",
   "metadata": {
    "papermill": {
     "duration": 0.021451,
     "end_time": "2022-08-18T13:55:24.996326",
     "exception": false,
     "start_time": "2022-08-18T13:55:24.974875",
     "status": "completed"
    },
    "tags": []
   },
   "source": [
    "# 7.Now take pre-trained model and retrain it using flowers images"
   ]
  },
  {
   "cell_type": "code",
   "execution_count": 16,
   "id": "641f4e8f",
   "metadata": {
    "execution": {
     "iopub.execute_input": "2022-08-18T13:55:25.038986Z",
     "iopub.status.busy": "2022-08-18T13:55:25.038636Z",
     "iopub.status.idle": "2022-08-18T13:55:25.047945Z",
     "shell.execute_reply": "2022-08-18T13:55:25.046590Z"
    },
    "papermill": {
     "duration": 0.035922,
     "end_time": "2022-08-18T13:55:25.053065",
     "exception": false,
     "start_time": "2022-08-18T13:55:25.017143",
     "status": "completed"
    },
    "tags": []
   },
   "outputs": [
    {
     "name": "stdout",
     "output_type": "stream",
     "text": [
      "Model: \"model\"\n",
      "_________________________________________________________________\n",
      "Layer (type)                 Output Shape              Param #   \n",
      "=================================================================\n",
      "input_2 (InputLayer)         [(None, 224, 224, 3)]     0         \n",
      "_________________________________________________________________\n",
      "block1_conv1 (Conv2D)        (None, 224, 224, 64)      1792      \n",
      "_________________________________________________________________\n",
      "block1_conv2 (Conv2D)        (None, 224, 224, 64)      36928     \n",
      "_________________________________________________________________\n",
      "block1_pool (MaxPooling2D)   (None, 112, 112, 64)      0         \n",
      "_________________________________________________________________\n",
      "block2_conv1 (Conv2D)        (None, 112, 112, 128)     73856     \n",
      "_________________________________________________________________\n",
      "block2_conv2 (Conv2D)        (None, 112, 112, 128)     147584    \n",
      "_________________________________________________________________\n",
      "block2_pool (MaxPooling2D)   (None, 56, 56, 128)       0         \n",
      "_________________________________________________________________\n",
      "block3_conv1 (Conv2D)        (None, 56, 56, 256)       295168    \n",
      "_________________________________________________________________\n",
      "block3_conv2 (Conv2D)        (None, 56, 56, 256)       590080    \n",
      "_________________________________________________________________\n",
      "block3_conv3 (Conv2D)        (None, 56, 56, 256)       590080    \n",
      "_________________________________________________________________\n",
      "block3_pool (MaxPooling2D)   (None, 28, 28, 256)       0         \n",
      "_________________________________________________________________\n",
      "block4_conv1 (Conv2D)        (None, 28, 28, 512)       1180160   \n",
      "_________________________________________________________________\n",
      "block4_conv2 (Conv2D)        (None, 28, 28, 512)       2359808   \n",
      "_________________________________________________________________\n",
      "block4_conv3 (Conv2D)        (None, 28, 28, 512)       2359808   \n",
      "_________________________________________________________________\n",
      "block4_pool (MaxPooling2D)   (None, 14, 14, 512)       0         \n",
      "_________________________________________________________________\n",
      "block5_conv1 (Conv2D)        (None, 14, 14, 512)       2359808   \n",
      "_________________________________________________________________\n",
      "block5_conv2 (Conv2D)        (None, 14, 14, 512)       2359808   \n",
      "_________________________________________________________________\n",
      "block5_conv3 (Conv2D)        (None, 14, 14, 512)       2359808   \n",
      "_________________________________________________________________\n",
      "block5_pool (MaxPooling2D)   (None, 7, 7, 512)         0         \n",
      "_________________________________________________________________\n",
      "flatten (Flatten)            (None, 25088)             0         \n",
      "_________________________________________________________________\n",
      "dense (Dense)                (None, 5)                 125445    \n",
      "=================================================================\n",
      "Total params: 14,840,133\n",
      "Trainable params: 125,445\n",
      "Non-trainable params: 14,714,688\n",
      "_________________________________________________________________\n"
     ]
    }
   ],
   "source": [
    "model.summary()"
   ]
  },
  {
   "cell_type": "code",
   "execution_count": 17,
   "id": "8c24e61e",
   "metadata": {
    "execution": {
     "iopub.execute_input": "2022-08-18T13:55:25.096970Z",
     "iopub.status.busy": "2022-08-18T13:55:25.096600Z",
     "iopub.status.idle": "2022-08-18T13:56:52.481566Z",
     "shell.execute_reply": "2022-08-18T13:56:52.480075Z"
    },
    "papermill": {
     "duration": 87.409732,
     "end_time": "2022-08-18T13:56:52.485039",
     "exception": false,
     "start_time": "2022-08-18T13:55:25.075307",
     "status": "completed"
    },
    "tags": []
   },
   "outputs": [
    {
     "name": "stderr",
     "output_type": "stream",
     "text": [
      "2022-08-18 13:55:25.908200: W tensorflow/core/framework/cpu_allocator_impl.cc:80] Allocation of 1325248512 exceeds 10% of free system memory.\n",
      "2022-08-18 13:55:28.133367: W tensorflow/core/framework/cpu_allocator_impl.cc:80] Allocation of 1325248512 exceeds 10% of free system memory.\n",
      "2022-08-18 13:55:29.559302: I tensorflow/compiler/mlir/mlir_graph_optimization_pass.cc:185] None of the MLIR Optimization Passes are enabled (registered 2)\n"
     ]
    },
    {
     "name": "stdout",
     "output_type": "stream",
     "text": [
      "Epoch 1/5\n"
     ]
    },
    {
     "name": "stderr",
     "output_type": "stream",
     "text": [
      "2022-08-18 13:55:31.743433: I tensorflow/stream_executor/cuda/cuda_dnn.cc:369] Loaded cuDNN version 8005\n"
     ]
    },
    {
     "name": "stdout",
     "output_type": "stream",
     "text": [
      "69/69 [==============================] - 22s 154ms/step - loss: 0.9544 - accuracy: 0.6574 - val_loss: 0.5405 - val_accuracy: 0.8258\n",
      "Epoch 2/5\n",
      "69/69 [==============================] - 6s 83ms/step - loss: 0.3033 - accuracy: 0.8987 - val_loss: 0.4484 - val_accuracy: 0.8494\n",
      "Epoch 3/5\n",
      "69/69 [==============================] - 6s 84ms/step - loss: 0.1398 - accuracy: 0.9718 - val_loss: 0.4671 - val_accuracy: 0.8421\n",
      "Epoch 4/5\n",
      "69/69 [==============================] - 6s 84ms/step - loss: 0.0826 - accuracy: 0.9932 - val_loss: 0.4477 - val_accuracy: 0.8457\n",
      "Epoch 5/5\n",
      "69/69 [==============================] - 6s 86ms/step - loss: 0.0513 - accuracy: 0.9973 - val_loss: 0.4693 - val_accuracy: 0.8439\n"
     ]
    }
   ],
   "source": [
    "model.compile(\n",
    "  optimizer=\"adam\",\n",
    "  loss=tf.keras.losses.SparseCategoricalCrossentropy(),\n",
    "  metrics=['accuracy'])\n",
    "\n",
    "history=model.fit(X_train_scaled, Y_train, validation_split=0.2,epochs=5)"
   ]
  },
  {
   "cell_type": "code",
   "execution_count": 18,
   "id": "4755bb5b",
   "metadata": {
    "execution": {
     "iopub.execute_input": "2022-08-18T13:56:52.572891Z",
     "iopub.status.busy": "2022-08-18T13:56:52.571666Z",
     "iopub.status.idle": "2022-08-18T13:57:00.182261Z",
     "shell.execute_reply": "2022-08-18T13:57:00.180823Z"
    },
    "papermill": {
     "duration": 7.656701,
     "end_time": "2022-08-18T13:57:00.185096",
     "exception": false,
     "start_time": "2022-08-18T13:56:52.528395",
     "status": "completed"
    },
    "tags": []
   },
   "outputs": [
    {
     "name": "stdout",
     "output_type": "stream",
     "text": [
      "29/29 [==============================] - 4s 141ms/step - loss: 0.4663 - accuracy: 0.8279\n"
     ]
    },
    {
     "data": {
      "text/plain": [
       "[0.4662633538246155, 0.827886700630188]"
      ]
     },
     "execution_count": 18,
     "metadata": {},
     "output_type": "execute_result"
    }
   ],
   "source": [
    "model.evaluate(X_test_scaled,Y_test)"
   ]
  },
  {
   "cell_type": "markdown",
   "id": "4653bf5b",
   "metadata": {
    "papermill": {
     "duration": 0.043956,
     "end_time": "2022-08-18T13:57:00.274055",
     "exception": false,
     "start_time": "2022-08-18T13:57:00.230099",
     "status": "completed"
    },
    "tags": []
   },
   "source": [
    "# 8.Evaluate the model"
   ]
  },
  {
   "cell_type": "code",
   "execution_count": 19,
   "id": "bac4c622",
   "metadata": {
    "execution": {
     "iopub.execute_input": "2022-08-18T13:57:00.382141Z",
     "iopub.status.busy": "2022-08-18T13:57:00.381707Z",
     "iopub.status.idle": "2022-08-18T13:57:00.869133Z",
     "shell.execute_reply": "2022-08-18T13:57:00.867710Z"
    },
    "papermill": {
     "duration": 0.554481,
     "end_time": "2022-08-18T13:57:00.871935",
     "exception": false,
     "start_time": "2022-08-18T13:57:00.317454",
     "status": "completed"
    },
    "tags": []
   },
   "outputs": [
    {
     "data": {
      "image/png": "[encoded data removed]",
      "text/plain": [
       "<Figure size 432x288 with 1 Axes>"
      ]
     },
     "metadata": {
      "needs_background": "light"
     },
     "output_type": "display_data"
    }
   ],
   "source": [
    "plt.grid()\n",
    "plt.plot(history.history['accuracy'], label='accuracy')\n",
    "plt.plot(history.history['loss'], label = 'loss')\n",
    "plt.plot(history.history['val_accuracy'], label='val_accuracy')\n",
    "plt.plot(history.history['val_loss'], label = 'val_loss')\n",
    "plt.xlabel('Epoch')\n",
    "plt.ylabel('Accuracy')\n",
    "plt.ylim([-0.4, 1.2])\n",
    "plt.legend(loc='lower right')\n",
    "plt.show()"
   ]
  },
  {
   "cell_type": "markdown",
   "id": "bf6cb252",
   "metadata": {
    "papermill": {
     "duration": 0.044811,
     "end_time": "2022-08-18T13:57:00.960558",
     "exception": false,
     "start_time": "2022-08-18T13:57:00.915747",
     "status": "completed"
    },
    "tags": []
   },
   "source": [
    "# 9. Summary\n",
    "1. https://www.kaggle.com/code/alexreddy/data-augmentation-in-cnn  train accuracy: 0.88, \n",
    "test accuracy:0.73, with Epochs 30\n",
    "2. In this model(Transfer Learning using VGG-16) - train accuracy: 0.99, test accuracy:0.83, with 5 Epochs - (16% difference between train and test accuracy) overfitting\n"
   ]
  }
 ],
 "metadata": {
  "kernelspec": {
   "display_name": "Python 3",
   "language": "python",
   "name": "python3"
  },
  "language_info": {
   "codemirror_mode": {
    "name": "ipython",
    "version": 3
   },
   "file_extension": ".py",
   "mimetype": "text/x-python",
   "name": "python",
   "nbconvert_exporter": "python",
   "pygments_lexer": "ipython3",
   "version": "3.7.12"
  },
  "papermill": {
   "default_parameters": {},
   "duration": 170.802331,
   "end_time": "2022-08-18T13:57:04.864334",
   "environment_variables": {},
   "exception": null,
   "input_path": "__notebook__.ipynb",
   "output_path": "__notebook__.ipynb",
   "parameters": {},
   "start_time": "2022-08-18T13:54:14.062003",
   "version": "2.3.4"
  }
 },
 "nbformat": 4,
 "nbformat_minor": 5
}
