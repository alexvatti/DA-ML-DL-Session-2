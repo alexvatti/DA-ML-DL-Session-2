{
 "cells": [
  {
   "cell_type": "code",
   "execution_count": 1,
   "id": "62760e4d",
   "metadata": {},
   "outputs": [
    {
     "name": "stdout",
     "output_type": "stream",
     "text": [
      "0.5415704832167999 0.5825702064623147 0.6224593312018546\n"
     ]
    }
   ],
   "source": [
    "# input layer\n",
    "import matplotlib.pyplot as plt\n",
    "import numpy as np\n",
    "\n",
    "def relu(x):\n",
    "    if x <= 0:\n",
    "        return 0\n",
    "    else\n",
    "        return(x)\n",
    "    \n",
    "def leaky_relu(x):\n",
    "    if x <= 0:\n",
    "        return (0.1*x)\n",
    "    else\n",
    "        return(x)\n",
    "\n",
    "def tanh(x):\n",
    "    t=(np.exp(x)-np.exp(-x))/(np.exp(x)+np.exp(-x))\n",
    "    return t\n",
    "\n",
    "def sigmoid(x):\n",
    "    s=1/(1+np.exp(-x))\n",
    "    return s\n",
    "\n",
    "x1 = 1\n",
    "x2 = 2\n",
    "x3 = 3\n",
    "w1 = 1/6\n",
    "w2 = 1/6\n",
    "w3 = 1/6\n",
    "o1 = sigmoid(x1*w1)\n",
    "o2 = sigmoid(x2*w2)\n",
    "o3 = sigmoid(x3*w3)\n",
    "print(o1,o2,o3)"
   ]
  },
  {
   "cell_type": "code",
   "execution_count": 3,
   "id": "ea8d6f42",
   "metadata": {},
   "outputs": [],
   "source": [
    "input_next = o1+o2+o3"
   ]
  },
  {
   "cell_type": "code",
   "execution_count": 4,
   "id": "b3cef4fb",
   "metadata": {},
   "outputs": [
    {
     "name": "stdout",
     "output_type": "stream",
     "text": [
      "0.5722654106431779 0.5722654106431779\n"
     ]
    }
   ],
   "source": [
    "# midlle layer\n",
    "w4 = 1/6\n",
    "w5 = 1/6\n",
    "o4 = sigmoid(input_next*w4)\n",
    "o5 = sigmoid(input_next*w5)\n",
    "print(o4,o5)"
   ]
  },
  {
   "cell_type": "code",
   "execution_count": 5,
   "id": "46515984",
   "metadata": {},
   "outputs": [],
   "source": [
    "input_next_next =o4 + o5"
   ]
  },
  {
   "cell_type": "code",
   "execution_count": 7,
   "id": "9b92537c",
   "metadata": {},
   "outputs": [
    {
     "name": "stdout",
     "output_type": "stream",
     "text": [
      "0.5475447020853583\n"
     ]
    }
   ],
   "source": [
    "# outlayer\n",
    "w6 = 1/6\n",
    "y_pred = sigmoid(input_next_next*w6)\n",
    "print(y_pred)"
   ]
  }
 ],
 "metadata": {
  "kernelspec": {
   "display_name": "Python 3 (ipykernel)",
   "language": "python",
   "name": "python3"
  },
  "language_info": {
   "codemirror_mode": {
    "name": "ipython",
    "version": 3
   },
   "file_extension": ".py",
   "mimetype": "text/x-python",
   "name": "python",
   "nbconvert_exporter": "python",
   "pygments_lexer": "ipython3",
   "version": "3.11.5"
  }
 },
 "nbformat": 4,
 "nbformat_minor": 5
}
