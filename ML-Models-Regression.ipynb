{
 "cells": [
  {
   "cell_type": "markdown",
   "id": "a21ab3fc",
   "metadata": {},
   "source": [
    "# ML Models (Regression)(Regression)"
   ]
  },
  {
   "cell_type": "code",
   "execution_count": null,
   "id": "026ab4f9",
   "metadata": {},
   "outputs": [],
   "source": [
    "from sklearn.model_selection import train_test_split\n",
    "X_train, X_test, y_train, y_test = train_test_split(X,Y,test_size=0.2,random_state = 42)"
   ]
  },
  {
   "cell_type": "markdown",
   "id": "d9350ebf",
   "metadata": {},
   "source": [
    "## K-Nearest Neighbors Regression (KNN)"
   ]
  },
  {
   "cell_type": "code",
   "execution_count": null,
   "id": "290aa03a",
   "metadata": {},
   "outputs": [],
   "source": [
    "from sklearn.neighbors import KNeighborsRegressor\n",
    "\n",
    "# Create and fit the model\n",
    "model = KNeighborsRegressor(n_neighbors=5)\n",
    "model.fit(X_train, y_train)\n",
    "print(\"Model - K-Nearest Neighbors Regression (KNN)\")\n",
    "# Predict on training set\n",
    "y_train_pred = model.predict(X_train)\n",
    "train_mse = mean_squared_error(y_train, y_train_pred)\n",
    "train_rmse = np.sqrt(train_mse)\n",
    "print(\"train - MSE\",train_mse)\n",
    "print(\"train - RMSE\",train_rmse)\n",
    "\n",
    "# Predict on test set\n",
    "y_test_pred = model.predict(X_test)\n",
    "test_mse = mean_squared_error(y_test, y_test_pred)\n",
    "test_rmse = np.sqrt(test_mse)\n",
    "print(\"test - MSE\",test_mse)\n",
    "print(\"test - RMSE\",test_rmse)\n",
    "\n",
    "# R2 score\n",
    "r2 = r2_score(y_test, y_test_pred)\n",
    "print(\"test-R 2 Score\",r2)"
   ]
  },
  {
   "cell_type": "markdown",
   "id": "bb67c6a8",
   "metadata": {},
   "source": [
    "## Linear Regression"
   ]
  },
  {
   "cell_type": "code",
   "execution_count": null,
   "id": "86cec150",
   "metadata": {},
   "outputs": [],
   "source": [
    "from sklearn.linear_model import LinearRegression\n",
    "from sklearn.metrics import mean_squared_error, r2_score\n",
    "import numpy as np\n",
    "\n",
    "# Create and fit the model\n",
    "model = LinearRegression()\n",
    "model.fit(X_train, y_train)\n",
    "print(\"Model - Linear Regression\")\n",
    "\n",
    "# Predict on training set\n",
    "y_train_pred = model.predict(X_train)\n",
    "train_mse = mean_squared_error(y_train, y_train_pred)\n",
    "train_rmse = np.sqrt(train_mse)\n",
    "print(\"train - MSE\",train_mse)\n",
    "print(\"train - RMSE\",train_rmse)\n",
    "# Predict on test set\n",
    "y_test_pred = model.predict(X_test)\n",
    "test_mse = mean_squared_error(y_test, y_test_pred)\n",
    "test_rmse = np.sqrt(test_mse)\n",
    "print(\"test - MSE\",test_mse)\n",
    "print(\"test - RMSE\",test_rmse)\n",
    "# R2 score\n",
    "r2 = r2_score(y_test, y_test_pred)\n",
    "print(\"test-R 2 Score\",r2)\n"
   ]
  },
  {
   "cell_type": "markdown",
   "id": "5f8f26d2",
   "metadata": {},
   "source": [
    "## Decision Tree Regression"
   ]
  },
  {
   "cell_type": "code",
   "execution_count": null,
   "id": "6aeaf3b8",
   "metadata": {},
   "outputs": [],
   "source": [
    "from sklearn.tree import DecisionTreeRegressor\n",
    "\n",
    "# Create and fit the model\n",
    "model = DecisionTreeRegressor()\n",
    "model.fit(X_train, y_train)\n",
    "print(\"Model - Decision Tree Regression\")\n",
    "\n",
    "# Predict on training set\n",
    "y_train_pred = model.predict(X_train)\n",
    "train_mse = mean_squared_error(y_train, y_train_pred)\n",
    "train_rmse = np.sqrt(train_mse)\n",
    "print(\"train - MSE\",train_mse)\n",
    "print(\"train - RMSE\",train_rmse)\n",
    "\n",
    "# Predict on test set\n",
    "y_test_pred = model.predict(X_test)\n",
    "test_mse = mean_squared_error(y_test, y_test_pred)\n",
    "test_rmse = np.sqrt(test_mse)\n",
    "print(\"test - MSE\",test_mse)\n",
    "print(\"test - RMSE\",test_rmse)\n",
    "# R2 score\n",
    "r2 = r2_score(y_test, y_test_pred)\n",
    "print(\"test-R 2 Score\",r2)"
   ]
  },
  {
   "cell_type": "markdown",
   "id": "c47c8011",
   "metadata": {},
   "source": [
    "## Random Forest Regression"
   ]
  },
  {
   "cell_type": "code",
   "execution_count": null,
   "id": "f3621cad",
   "metadata": {},
   "outputs": [],
   "source": [
    "from sklearn.ensemble import RandomForestRegressor\n",
    "\n",
    "# Create and fit the model\n",
    "model = RandomForestRegressor()\n",
    "model.fit(X_train, y_train)\n",
    "print(\"Model - Random Forest Regression\")\n",
    "\n",
    "# Predict on training set\n",
    "y_train_pred = model.predict(X_train)\n",
    "train_mse = mean_squared_error(y_train, y_train_pred)\n",
    "train_rmse = np.sqrt(train_mse)\n",
    "print(\"train - MSE\",train_mse)\n",
    "print(\"train - RMSE\",train_rmse)\n",
    "\n",
    "# Predict on test set\n",
    "y_test_pred = model.predict(X_test)\n",
    "test_mse = mean_squared_error(y_test, y_test_pred)\n",
    "test_rmse = np.sqrt(test_mse)\n",
    "print(\"test - MSE\",test_mse)\n",
    "print(\"test - RMSE\",test_rmse)\n",
    "\n",
    "# R2 score\n",
    "r2 = r2_score(y_test, y_test_pred)\n",
    "print(\"test-R 2 Score\",r2)"
   ]
  },
  {
   "cell_type": "markdown",
   "id": "65606814",
   "metadata": {},
   "source": [
    "## Support Vector Regression (SVR)"
   ]
  },
  {
   "cell_type": "code",
   "execution_count": null,
   "id": "022d27db",
   "metadata": {},
   "outputs": [],
   "source": [
    "from sklearn.svm import SVR\n",
    "\n",
    "# Create and fit the model\n",
    "model = SVR(kernel='linear')\n",
    "model.fit(X_train, y_train)\n",
    "print(\"Model - Support Vector Regression \")\n",
    "\n",
    "# Predict on training set\n",
    "y_train_pred = model.predict(X_train)\n",
    "train_mse = mean_squared_error(y_train, y_train_pred)\n",
    "train_rmse = np.sqrt(train_mse)\n",
    "print(\"train - MSE\",train_mse)\n",
    "print(\"train - RMSE\",train_rmse)\n",
    "\n",
    "# Predict on test set\n",
    "y_test_pred = model.predict(X_test)\n",
    "test_mse = mean_squared_error(y_test, y_test_pred)\n",
    "test_rmse = np.sqrt(test_mse)\n",
    "print(\"test - MSE\",test_mse)\n",
    "print(\"test - RMSE\",test_rmse)\n",
    "\n",
    "# R2 score\n",
    "r2 = r2_score(y_test, y_test_pred)\n",
    "print(\"test-R 2 Score\",r2)"
   ]
  },
  {
   "cell_type": "markdown",
   "id": "ff3f1c8f",
   "metadata": {},
   "source": [
    "## AdaBoost Regression"
   ]
  },
  {
   "cell_type": "code",
   "execution_count": null,
   "id": "844c4c9f",
   "metadata": {},
   "outputs": [],
   "source": [
    "from sklearn.ensemble import AdaBoostRegressor\n",
    "\n",
    "# Create and fit the model\n",
    "ada_boost = AdaBoostRegressor()\n",
    "ada_boost.fit(X_train, y_train)\n",
    "print(\"Model - AdaBoost Regression \")\n",
    "# Predict on training set\n",
    "y_train_pred = ada_boost.predict(X_train)\n",
    "train_mse = mean_squared_error(y_train, y_train_pred)\n",
    "train_rmse = np.sqrt(train_mse)\n",
    "print(\"train - MSE\",train_mse)\n",
    "print(\"train - RMSE\",train_rmse)\n",
    "\n",
    "# Predict on test set\n",
    "y_test_pred = ada_boost.predict(X_test)\n",
    "test_mse = mean_squared_error(y_test, y_test_pred)\n",
    "test_rmse = np.sqrt(test_mse)\n",
    "print(\"test - MSE\",test_mse)\n",
    "print(\"test - RMSE\",test_rmse)\n",
    "\n",
    "# R2 score\n",
    "r2 = r2_score(y_test, y_test_pred)\n",
    "print(\"test-R 2 Score\",r2)"
   ]
  },
  {
   "cell_type": "markdown",
   "id": "7c7e4c2f",
   "metadata": {},
   "source": [
    "## Gradient Boosting Regression"
   ]
  },
  {
   "cell_type": "code",
   "execution_count": null,
   "id": "b18f1d46",
   "metadata": {},
   "outputs": [],
   "source": [
    "from sklearn.ensemble import GradientBoostingRegressor\n",
    "\n",
    "# Create and fit the model\n",
    "gradient_boost = GradientBoostingRegressor()\n",
    "gradient_boost.fit(X_train, y_train)\n",
    "print(\"Model - Gradient Boosting Regression\")\n",
    "\n",
    "# Predict on training set\n",
    "y_train_pred = gradient_boost.predict(X_train)\n",
    "train_mse = mean_squared_error(y_train, y_train_pred)\n",
    "train_rmse = np.sqrt(train_mse)\n",
    "print(\"train - MSE\",train_mse)\n",
    "print(\"train - RMSE\",train_rmse)\n",
    "\n",
    "# Predict on test set\n",
    "y_test_pred = gradient_boost.predict(X_test)\n",
    "test_mse = mean_squared_error(y_test, y_test_pred)\n",
    "test_rmse = np.sqrt(test_mse)\n",
    "print(\"test - MSE\",test_mse)\n",
    "print(\"test - RMSE\",test_rmse)\n",
    "\n",
    "# R2 score\n",
    "r2 = r2_score(y_test, y_test_pred)\n",
    "print(\"test-R 2 Score\",r2)"
   ]
  },
  {
   "cell_type": "markdown",
   "id": "f85e6693",
   "metadata": {},
   "source": [
    "## XGBoost Regression"
   ]
  },
  {
   "cell_type": "code",
   "execution_count": null,
   "id": "fe53074e",
   "metadata": {},
   "outputs": [],
   "source": [
    "import xgboost as xgb\n",
    "\n",
    "# Create and fit the model\n",
    "xg_boost = xgb.XGBRegressor()\n",
    "xg_boost.fit(X_train, y_train)\n",
    "print(\"Model-XGBoost Regression\")\n",
    "\n",
    "# Predict on training set\n",
    "y_train_pred = xg_boost.predict(X_train)\n",
    "train_mse = mean_squared_error(y_train, y_train_pred)\n",
    "train_rmse = np.sqrt(train_mse)\n",
    "print(\"train - MSE\",train_mse)\n",
    "print(\"train - RMSE\",train_rmse)\n",
    "\n",
    "# Predict on test set\n",
    "y_test_pred = xg_boost.predict(X_test)\n",
    "test_mse = mean_squared_error(y_test, y_test_pred)\n",
    "test_rmse = np.sqrt(test_mse)\n",
    "print(\"test - MSE\",test_mse)\n",
    "print(\"test - RMSE\",test_rmse)\n",
    "\n",
    "# R2 score\n",
    "r2 = r2_score(y_test, y_test_pred)\n",
    "print(\"test-R 2 Score\",r2)"
   ]
  },
  {
   "cell_type": "code",
   "execution_count": null,
   "id": "a26dc177",
   "metadata": {},
   "outputs": [],
   "source": []
  }
 ],
 "metadata": {
  "kernelspec": {
   "display_name": "Python 3 (ipykernel)",
   "language": "python",
   "name": "python3"
  },
  "language_info": {
   "codemirror_mode": {
    "name": "ipython",
    "version": 3
   },
   "file_extension": ".py",
   "mimetype": "text/x-python",
   "name": "python",
   "nbconvert_exporter": "python",
   "pygments_lexer": "ipython3",
   "version": "3.11.5"
  }
 },
 "nbformat": 4,
 "nbformat_minor": 5
}
