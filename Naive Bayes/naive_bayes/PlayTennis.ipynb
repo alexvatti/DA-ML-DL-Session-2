{
 "cells": [
  {
   "cell_type": "code",
   "execution_count": 1,
   "id": "1cf91edd",
   "metadata": {},
   "outputs": [],
   "source": [
    "#numpy and pandas initialization\n",
    "import numpy as np\n",
    "import pandas as pd"
   ]
  },
  {
   "cell_type": "code",
   "execution_count": 5,
   "id": "367ac37e",
   "metadata": {},
   "outputs": [],
   "source": [
    "#Loading the PlayTennis data\n",
    "tennis_df = pd.read_csv(\"PlayTennis.csv\")"
   ]
  },
  {
   "cell_type": "code",
   "execution_count": 6,
   "id": "b57aba3b",
   "metadata": {
    "scrolled": false
   },
   "outputs": [
    {
     "data": {
      "text/html": [
       "<div>\n",
       "<style scoped>\n",
       "    .dataframe tbody tr th:only-of-type {\n",
       "        vertical-align: middle;\n",
       "    }\n",
       "\n",
       "    .dataframe tbody tr th {\n",
       "        vertical-align: top;\n",
       "    }\n",
       "\n",
       "    .dataframe thead th {\n",
       "        text-align: right;\n",
       "    }\n",
       "</style>\n",
       "<table border=\"1\" class=\"dataframe\">\n",
       "  <thead>\n",
       "    <tr style=\"text-align: right;\">\n",
       "      <th></th>\n",
       "      <th>outlook</th>\n",
       "      <th>temp</th>\n",
       "      <th>humidity</th>\n",
       "      <th>windy</th>\n",
       "      <th>play</th>\n",
       "    </tr>\n",
       "  </thead>\n",
       "  <tbody>\n",
       "    <tr>\n",
       "      <th>0</th>\n",
       "      <td>sunny</td>\n",
       "      <td>hot</td>\n",
       "      <td>high</td>\n",
       "      <td>False</td>\n",
       "      <td>no</td>\n",
       "    </tr>\n",
       "    <tr>\n",
       "      <th>1</th>\n",
       "      <td>sunny</td>\n",
       "      <td>hot</td>\n",
       "      <td>high</td>\n",
       "      <td>True</td>\n",
       "      <td>no</td>\n",
       "    </tr>\n",
       "    <tr>\n",
       "      <th>2</th>\n",
       "      <td>overcast</td>\n",
       "      <td>hot</td>\n",
       "      <td>high</td>\n",
       "      <td>False</td>\n",
       "      <td>yes</td>\n",
       "    </tr>\n",
       "    <tr>\n",
       "      <th>3</th>\n",
       "      <td>rainy</td>\n",
       "      <td>mild</td>\n",
       "      <td>high</td>\n",
       "      <td>False</td>\n",
       "      <td>yes</td>\n",
       "    </tr>\n",
       "    <tr>\n",
       "      <th>4</th>\n",
       "      <td>rainy</td>\n",
       "      <td>cool</td>\n",
       "      <td>normal</td>\n",
       "      <td>False</td>\n",
       "      <td>yes</td>\n",
       "    </tr>\n",
       "    <tr>\n",
       "      <th>5</th>\n",
       "      <td>rainy</td>\n",
       "      <td>cool</td>\n",
       "      <td>normal</td>\n",
       "      <td>True</td>\n",
       "      <td>no</td>\n",
       "    </tr>\n",
       "    <tr>\n",
       "      <th>6</th>\n",
       "      <td>overcast</td>\n",
       "      <td>cool</td>\n",
       "      <td>normal</td>\n",
       "      <td>True</td>\n",
       "      <td>yes</td>\n",
       "    </tr>\n",
       "    <tr>\n",
       "      <th>7</th>\n",
       "      <td>sunny</td>\n",
       "      <td>mild</td>\n",
       "      <td>high</td>\n",
       "      <td>False</td>\n",
       "      <td>no</td>\n",
       "    </tr>\n",
       "    <tr>\n",
       "      <th>8</th>\n",
       "      <td>sunny</td>\n",
       "      <td>cool</td>\n",
       "      <td>normal</td>\n",
       "      <td>False</td>\n",
       "      <td>yes</td>\n",
       "    </tr>\n",
       "    <tr>\n",
       "      <th>9</th>\n",
       "      <td>rainy</td>\n",
       "      <td>mild</td>\n",
       "      <td>normal</td>\n",
       "      <td>False</td>\n",
       "      <td>yes</td>\n",
       "    </tr>\n",
       "    <tr>\n",
       "      <th>10</th>\n",
       "      <td>sunny</td>\n",
       "      <td>mild</td>\n",
       "      <td>normal</td>\n",
       "      <td>True</td>\n",
       "      <td>yes</td>\n",
       "    </tr>\n",
       "    <tr>\n",
       "      <th>11</th>\n",
       "      <td>overcast</td>\n",
       "      <td>mild</td>\n",
       "      <td>high</td>\n",
       "      <td>True</td>\n",
       "      <td>yes</td>\n",
       "    </tr>\n",
       "    <tr>\n",
       "      <th>12</th>\n",
       "      <td>overcast</td>\n",
       "      <td>hot</td>\n",
       "      <td>normal</td>\n",
       "      <td>False</td>\n",
       "      <td>yes</td>\n",
       "    </tr>\n",
       "    <tr>\n",
       "      <th>13</th>\n",
       "      <td>rainy</td>\n",
       "      <td>mild</td>\n",
       "      <td>high</td>\n",
       "      <td>True</td>\n",
       "      <td>no</td>\n",
       "    </tr>\n",
       "  </tbody>\n",
       "</table>\n",
       "</div>"
      ],
      "text/plain": [
       "     outlook  temp humidity  windy play\n",
       "0      sunny   hot     high  False   no\n",
       "1      sunny   hot     high   True   no\n",
       "2   overcast   hot     high  False  yes\n",
       "3      rainy  mild     high  False  yes\n",
       "4      rainy  cool   normal  False  yes\n",
       "5      rainy  cool   normal   True   no\n",
       "6   overcast  cool   normal   True  yes\n",
       "7      sunny  mild     high  False   no\n",
       "8      sunny  cool   normal  False  yes\n",
       "9      rainy  mild   normal  False  yes\n",
       "10     sunny  mild   normal   True  yes\n",
       "11  overcast  mild     high   True  yes\n",
       "12  overcast   hot   normal  False  yes\n",
       "13     rainy  mild     high   True   no"
      ]
     },
     "execution_count": 6,
     "metadata": {},
     "output_type": "execute_result"
    }
   ],
   "source": [
    "tennis_df"
   ]
  },
  {
   "cell_type": "code",
   "execution_count": 31,
   "id": "9e0a2a93",
   "metadata": {},
   "outputs": [
    {
     "name": "stdout",
     "output_type": "stream",
     "text": [
      "{'outlook': {'yes': {'overcast': 0.2857142857142857, 'rainy': 0.21428571428571427, 'sunny': 0.14285714285714285}, 'no': {'overcast': 0.0, 'rainy': 0.14285714285714285, 'sunny': 0.21428571428571427}}, 'temp': {'yes': {'cool': 0.21428571428571427, 'hot': 0.14285714285714285, 'mild': 0.2857142857142857}, 'no': {'cool': 0.07142857142857142, 'hot': 0.14285714285714285, 'mild': 0.14285714285714285}}, 'humidity': {'yes': {'high': 0.21428571428571427, 'normal': 0.42857142857142855}, 'no': {'high': 0.2857142857142857, 'normal': 0.07142857142857142}}, 'play': {'yes': {'no': 0.0, 'yes': 0.6428571428571429}, 'no': {'no': 0.35714285714285715, 'yes': 0.0}}}\n"
     ]
    }
   ],
   "source": [
    "import pandas as pd\n",
    "\n",
    "# Assuming tennis_df is your DataFrame\n",
    "\n",
    "# Initialize an empty dictionary to store category probabilities\n",
    "category_probabilities = {}\n",
    "\n",
    "for col in tennis_df.select_dtypes(include='object').columns:\n",
    "    # Perform cross-tabulation\n",
    "    cross_tab = pd.crosstab(tennis_df[col], tennis_df['play'], margins=True, normalize=True)\n",
    "    \n",
    "    # Extract probabilities for 'yes' and 'no' from the cross-tabulation\n",
    "    prob_yes = cross_tab['yes'][:-1]\n",
    "    prob_no = cross_tab['no'][:-1]\n",
    "    \n",
    "    # Store probabilities in the dictionary\n",
    "    category_probabilities[col] = {'yes': prob_yes.to_dict(), 'no': prob_no.to_dict()}\n",
    "\n",
    "print(category_probabilities)\n",
    "\n",
    "# Print or do whatever you want with the category probabilities\n",
    "\n"
   ]
  },
  {
   "cell_type": "code",
   "execution_count": 29,
   "id": "6737df04",
   "metadata": {},
   "outputs": [],
   "source": [
    "def CategoricalNB(d):\n",
    "    pro_play_tennis_yes = category_probabilities[\"outlook\"][\"yes\"][d[\"outlook\"]] * category_probabilities[\"temp\"][\"yes\"][d[\"temp\"]]* category_probabilities[\"humidity\"][\"yes\"][d[\"humidity\"]] * category_probabilities['play']['yes']['yes']\n",
    "        \n",
    "    pro_play_tennis_no = category_probabilities[\"outlook\"][\"no\"][d[\"outlook\"]] * category_probabilities[\"temp\"][\"no\"][d[\"temp\"]]* category_probabilities[\"humidity\"][\"no\"][d[\"humidity\"]] * category_probabilities['play']['no']['no']\n",
    "    \n",
    "    if pro_play_tennis_yes > pro_play_tennis_no:\n",
    "        print(\"Play tenssis : Yes\")\n",
    "    else:\n",
    "        print(\"Play tennis :  No\")\n",
    " "
   ]
  },
  {
   "cell_type": "code",
   "execution_count": 30,
   "id": "f3409832",
   "metadata": {
    "scrolled": true
   },
   "outputs": [
    {
     "name": "stdout",
     "output_type": "stream",
     "text": [
      "{'outlook': 'sunny', 'temp': 'mild', 'humidity': 'high', 'windy': 'False'}\n",
      "Play tenssis : Yes\n"
     ]
    }
   ],
   "source": [
    "\n",
    "d = {\"outlook\":\"sunny\", \"temp\":\"mild\",\"humidity\":\"high\",\"windy\":\"False\"}\n",
    "print(d)\n",
    "CategoricalNB(d)"
   ]
  }
 ],
 "metadata": {
  "kernelspec": {
   "display_name": "Python 3 (ipykernel)",
   "language": "python",
   "name": "python3"
  },
  "language_info": {
   "codemirror_mode": {
    "name": "ipython",
    "version": 3
   },
   "file_extension": ".py",
   "mimetype": "text/x-python",
   "name": "python",
   "nbconvert_exporter": "python",
   "pygments_lexer": "ipython3",
   "version": "3.11.5"
  }
 },
 "nbformat": 4,
 "nbformat_minor": 5
}
