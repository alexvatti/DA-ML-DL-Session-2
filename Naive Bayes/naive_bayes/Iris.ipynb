{
 "cells": [
  {
   "cell_type": "code",
   "execution_count": 37,
   "id": "5bd5ec3e",
   "metadata": {},
   "outputs": [],
   "source": [
    "#numpy and pandas initialization\n",
    "import numpy as np\n",
    "import pandas as pd\n",
    "from sklearn.preprocessing import LabelEncoder\n",
    "\n",
    "from sklearn.metrics import confusion_matrix, classification_report\n",
    "import seaborn as sns"
   ]
  },
  {
   "cell_type": "code",
   "execution_count": 38,
   "id": "d7702e8d",
   "metadata": {},
   "outputs": [
    {
     "data": {
      "text/html": [
       "<div>\n",
       "<style scoped>\n",
       "    .dataframe tbody tr th:only-of-type {\n",
       "        vertical-align: middle;\n",
       "    }\n",
       "\n",
       "    .dataframe tbody tr th {\n",
       "        vertical-align: top;\n",
       "    }\n",
       "\n",
       "    .dataframe thead th {\n",
       "        text-align: right;\n",
       "    }\n",
       "</style>\n",
       "<table border=\"1\" class=\"dataframe\">\n",
       "  <thead>\n",
       "    <tr style=\"text-align: right;\">\n",
       "      <th></th>\n",
       "      <th>sepal_length</th>\n",
       "      <th>sepal_width</th>\n",
       "      <th>petal_length</th>\n",
       "      <th>petal_width</th>\n",
       "      <th>species</th>\n",
       "    </tr>\n",
       "  </thead>\n",
       "  <tbody>\n",
       "    <tr>\n",
       "      <th>0</th>\n",
       "      <td>5.1</td>\n",
       "      <td>3.5</td>\n",
       "      <td>1.4</td>\n",
       "      <td>0.2</td>\n",
       "      <td>setosa</td>\n",
       "    </tr>\n",
       "    <tr>\n",
       "      <th>1</th>\n",
       "      <td>4.9</td>\n",
       "      <td>3.0</td>\n",
       "      <td>1.4</td>\n",
       "      <td>0.2</td>\n",
       "      <td>setosa</td>\n",
       "    </tr>\n",
       "    <tr>\n",
       "      <th>2</th>\n",
       "      <td>4.7</td>\n",
       "      <td>3.2</td>\n",
       "      <td>1.3</td>\n",
       "      <td>0.2</td>\n",
       "      <td>setosa</td>\n",
       "    </tr>\n",
       "    <tr>\n",
       "      <th>3</th>\n",
       "      <td>4.6</td>\n",
       "      <td>3.1</td>\n",
       "      <td>1.5</td>\n",
       "      <td>0.2</td>\n",
       "      <td>setosa</td>\n",
       "    </tr>\n",
       "    <tr>\n",
       "      <th>4</th>\n",
       "      <td>5.0</td>\n",
       "      <td>3.6</td>\n",
       "      <td>1.4</td>\n",
       "      <td>0.2</td>\n",
       "      <td>setosa</td>\n",
       "    </tr>\n",
       "  </tbody>\n",
       "</table>\n",
       "</div>"
      ],
      "text/plain": [
       "   sepal_length  sepal_width  petal_length  petal_width species\n",
       "0           5.1          3.5           1.4          0.2  setosa\n",
       "1           4.9          3.0           1.4          0.2  setosa\n",
       "2           4.7          3.2           1.3          0.2  setosa\n",
       "3           4.6          3.1           1.5          0.2  setosa\n",
       "4           5.0          3.6           1.4          0.2  setosa"
      ]
     },
     "execution_count": 38,
     "metadata": {},
     "output_type": "execute_result"
    }
   ],
   "source": [
    "#Loading the dataset\n",
    "iris_df = pd.read_csv(\"Iris.csv\")\n",
    "iris_df.head()"
   ]
  },
  {
   "cell_type": "code",
   "execution_count": 39,
   "id": "34b02327",
   "metadata": {
    "scrolled": true
   },
   "outputs": [],
   "source": [
    "X = iris_df[[\"petal_length\",\"petal_width\",\"species\"]]  # Petal length (PL) , PW  as the feature"
   ]
  },
  {
   "cell_type": "code",
   "execution_count": 40,
   "id": "a147d3e2",
   "metadata": {
    "scrolled": true
   },
   "outputs": [
    {
     "data": {
      "text/plain": [
       "species\n",
       "setosa        50\n",
       "versicolor    50\n",
       "virginica     50\n",
       "Name: count, dtype: int64"
      ]
     },
     "execution_count": 40,
     "metadata": {},
     "output_type": "execute_result"
    }
   ],
   "source": [
    "iris_df[\"species\"].value_counts()"
   ]
  },
  {
   "cell_type": "code",
   "execution_count": 41,
   "id": "c493b53e",
   "metadata": {},
   "outputs": [],
   "source": [
    "pl_pw_setosa = X[X[\"species\"]==\"setosa\"]\n",
    "pl_pw_versicolor = X[X[\"species\"]==\"versicolor\"]\n",
    "pl_pw_virginica =X[X[\"species\"]==\"virginica\"]"
   ]
  },
  {
   "cell_type": "code",
   "execution_count": 42,
   "id": "41401fdf",
   "metadata": {},
   "outputs": [],
   "source": [
    "pw_setosa_mean = pl_pw_setosa[\"petal_width\"].mean()\n",
    "pw_setosa_std = pl_pw_setosa[\"petal_width\"].std()\n",
    "\n",
    "pw_versicolor_mean = pl_pw_versicolor[\"petal_width\"].mean()\n",
    "pw_versicolor_std = pl_pw_versicolor[\"petal_width\"].std()\n",
    "\n",
    "pw_virginica_mean = pl_pw_virginica[\"petal_width\"].mean()\n",
    "pw_virginica_std = pl_pw_virginica[\"petal_width\"].std()"
   ]
  },
  {
   "cell_type": "code",
   "execution_count": 43,
   "id": "eb49dd03",
   "metadata": {},
   "outputs": [],
   "source": [
    "pl_setosa_mean = pl_pw_setosa[\"petal_length\"].mean()\n",
    "pl_setosa_std = pl_pw_setosa[\"petal_length\"].std()\n",
    "\n",
    "pl_versicolor_mean = pl_pw_versicolor[\"petal_length\"].mean()\n",
    "pl_versicolor_std = pl_pw_versicolor[\"petal_length\"].std()\n",
    "\n",
    "pl_virginica_mean = pl_pw_virginica[\"petal_length\"].mean()\n",
    "pl_virginica_std = pl_pw_virginica[\"petal_length\"].std()"
   ]
  },
  {
   "cell_type": "code",
   "execution_count": 44,
   "id": "4a74fab0",
   "metadata": {},
   "outputs": [
    {
     "name": "stdout",
     "output_type": "stream",
     "text": [
      "probability-setosa 7.347513094583909\n",
      "probability-versicolor 1.41179833532868e-15\n",
      "probability-virginica 1.357387944715502e-22\n",
      "flower type is setosa\n"
     ]
    }
   ],
   "source": [
    "def probability_flower_type(x,mean,std):\n",
    "    exponent = np.exp(-((x - mean) ** 2) / (2 * (std ** 2)))\n",
    "    return ((1 / (np.sqrt(2 * np.pi) * std)) * exponent)\n",
    "\n",
    "sample = [5.0,3.6,1.4,0.2]\n",
    "x=sample[2] #pl\n",
    "y=sample[3] # pw\n",
    "\n",
    "pro_setosa=probability_flower_type(x,pl_setosa_mean,pl_setosa_std) * probability_flower_type(y,pw_setosa_mean,pw_setosa_std)  \n",
    "\n",
    "pro_versicolor =probability_flower_type(x,pl_versicolor_mean,pl_versicolor_std) *  probability_flower_type(y,pw_versicolor_mean,pw_versicolor_std)\n",
    "\n",
    "pro_virginica = probability_flower_type(x,pl_virginica_mean,pl_virginica_std) * probability_flower_type(y,pw_virginica_mean,pw_virginica_std)\n",
    "\n",
    "print(\"probability-setosa\",pro_setosa)\n",
    "print(\"probability-versicolor\",pro_versicolor)\n",
    "print(\"probability-virginica\", pro_virginica)\n",
    "\n",
    "if pro_setosa > pro_versicolor:\n",
    "    if pro_setosa > pro_virginica:\n",
    "        print(\"flower type is setosa\")\n",
    "    else:\n",
    "        print(\"flower type is virginica\")\n",
    "elif pro_versicolor > pro_virginica:\n",
    "    print(\"flower type is versicolor\")\n",
    "else:\n",
    "    print(\"flower type is virginica\")\n"
   ]
  },
  {
   "cell_type": "code",
   "execution_count": 45,
   "id": "08876fe1",
   "metadata": {},
   "outputs": [
    {
     "data": {
      "text/plain": [
       "array(['setosa', 'versicolor', 'virginica'], dtype=object)"
      ]
     },
     "execution_count": 45,
     "metadata": {},
     "output_type": "execute_result"
    }
   ],
   "source": [
    "data[\"species\"].unique()"
   ]
  }
 ],
 "metadata": {
  "kernelspec": {
   "display_name": "Python 3 (ipykernel)",
   "language": "python",
   "name": "python3"
  },
  "language_info": {
   "codemirror_mode": {
    "name": "ipython",
    "version": 3
   },
   "file_extension": ".py",
   "mimetype": "text/x-python",
   "name": "python",
   "nbconvert_exporter": "python",
   "pygments_lexer": "ipython3",
   "version": "3.11.5"
  }
 },
 "nbformat": 4,
 "nbformat_minor": 5
}
