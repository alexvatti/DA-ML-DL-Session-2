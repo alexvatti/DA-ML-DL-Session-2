{
 "cells": [
  {
   "cell_type": "markdown",
   "id": "3b4ab85a",
   "metadata": {},
   "source": [
    "# Ada boost\n",
    "- https://www.analyticsvidhya.com/blog/2021/09/adaboost-algorithm-a-complete-guide-for-beginners/"
   ]
  },
  {
   "cell_type": "code",
   "execution_count": 16,
   "id": "ac5538a3",
   "metadata": {},
   "outputs": [],
   "source": [
    "from sklearn.datasets import make_classification\n",
    "from sklearn.model_selection import train_test_split\n",
    "from sklearn.tree import DecisionTreeClassifier\n",
    "from sklearn.metrics import accuracy_score\n",
    "import numpy as np"
   ]
  },
  {
   "cell_type": "code",
   "execution_count": 17,
   "id": "f9ead42b",
   "metadata": {},
   "outputs": [],
   "source": [
    "models = []\n",
    "alphas = []\n",
    "def my_adaboost(X,y,n_estimators=5):\n",
    "    n_samples, n_features = X.shape\n",
    "    weights = np.ones(n_samples) / n_samples\n",
    "\n",
    "    for _ in range(n_estimators):\n",
    "        model = DecisionTreeClassifier(max_depth=1)\n",
    "        model.fit(X, y, sample_weight=weights)\n",
    "        predictions = model.predict(X)\n",
    "\n",
    "        error = np.sum(weights * (predictions != y))\n",
    "\n",
    "        alpha = 0.5 * np.log((1 - error) / (error + 1e-10))\n",
    "        alphas.append(alpha)\n",
    "\n",
    "        weights *= np.exp(-alpha * y * predictions)\n",
    "        weights /= np.sum(weights)\n",
    "\n",
    "        models.append(model)\n",
    "        \n",
    "def adaboost_predict(X):\n",
    "    n_samples = X.shape[0]\n",
    "    predictions = np.zeros(n_samples)\n",
    "\n",
    "    for alpha, model in zip(alphas, models):\n",
    "        predictions += alpha * model.predict(X)\n",
    "\n",
    "    return np.sign(predictions)"
   ]
  },
  {
   "cell_type": "code",
   "execution_count": 18,
   "id": "d8c98530",
   "metadata": {},
   "outputs": [
    {
     "name": "stdout",
     "output_type": "stream",
     "text": [
      "test Accuracy: 0.86\n",
      "Train Accuracy: 0.87625\n"
     ]
    }
   ],
   "source": [
    "    # Create synthetic data\n",
    "X, Y = make_classification(n_samples=1000, n_features=20, n_classes=2, random_state=42)\n",
    "\n",
    "# Split the data into training and testing sets\n",
    "X_train, X_test, Y_train, Y_test = train_test_split(X, Y, test_size=0.2, random_state=42)\n",
    "\n",
    "# Create an AdaBoost classifier\n",
    "my_adaboost(X_train,Y_train,n_estimators=5)\n",
    "\n",
    "\n",
    "# Make predictions on the testing set\n",
    "y_pred = adaboost_predict(X_test)\n",
    "\n",
    "# Calculate the accuracy\n",
    "accuracy = accuracy_score(Y_test, y_pred)\n",
    "print(\"Test Accuracy:\", accuracy)\n",
    "\n",
    "# Make predictions on the testing set\n",
    "y_train_pred = adaboost_predict(X_train)\n",
    "accuracy = accuracy_score(Y_train, y_train_pred)\n",
    "print(\"Train Accuracy:\", accuracy)"
   ]
  }
 ],
 "metadata": {
  "kernelspec": {
   "display_name": "Python 3 (ipykernel)",
   "language": "python",
   "name": "python3"
  },
  "language_info": {
   "codemirror_mode": {
    "name": "ipython",
    "version": 3
   },
   "file_extension": ".py",
   "mimetype": "text/x-python",
   "name": "python",
   "nbconvert_exporter": "python",
   "pygments_lexer": "ipython3",
   "version": "3.11.5"
  }
 },
 "nbformat": 4,
 "nbformat_minor": 5
}
